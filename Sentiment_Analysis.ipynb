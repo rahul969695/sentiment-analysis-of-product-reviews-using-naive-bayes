{
 "cells": [
  {
   "cell_type": "code",
   "execution_count": 1,
   "id": "819ab10b-c677-48a2-86b9-523699da6122",
   "metadata": {},
   "outputs": [],
   "source": [
    "import re\n",
    "import nltk\n",
    "import pickle\n",
    "import pandas as pd\n",
    "import numpy as np\n",
    "import requests\n",
    "import joblib"
   ]
  },
  {
   "cell_type": "code",
   "execution_count": 2,
   "id": "d904f103-5dbb-4a46-9dbf-1fc364c885fe",
   "metadata": {},
   "outputs": [],
   "source": [
    "# Data processing\n",
    "from nltk import word_tokenize\n",
    "from nltk.corpus import stopwords\n",
    "from nltk.stem import PorterStemmer\n",
    "from nltk.stem import WordNetLemmatizer"
   ]
  },
  {
   "cell_type": "code",
   "execution_count": 3,
   "id": "ea3638c6-b18f-4f37-bb5b-b41467db603e",
   "metadata": {},
   "outputs": [],
   "source": [
    "# Feature extraction\n",
    "from sklearn.feature_extraction.text import TfidfVectorizer, CountVectorizer, TfidfTransformer\n",
    "from yellowbrick.text import FreqDistVisualizer"
   ]
  },
  {
   "cell_type": "code",
   "execution_count": 4,
   "id": "b8e26c63-5679-4a7a-9966-e5809f67a7e3",
   "metadata": {},
   "outputs": [],
   "source": [
    "# Machine Learning\n",
    "from sklearn.model_selection import train_test_split\n",
    "from sklearn.svm import SVC\n",
    "from sklearn.linear_model import LogisticRegression\n",
    "from sklearn.model_selection import StratifiedShuffleSplit, GridSearchCV\n",
    "from sklearn.pipeline import Pipeline\n",
    "from sklearn import set_config"
   ]
  },
  {
   "cell_type": "code",
   "execution_count": 5,
   "id": "f7a17cc0-9297-465f-95a7-436324f9ae59",
   "metadata": {},
   "outputs": [],
   "source": [
    "# Evaluation\n",
    "from sklearn.metrics import confusion_matrix, accuracy_score, classification_report"
   ]
  },
  {
   "cell_type": "code",
   "execution_count": 6,
   "id": "b8b90ff6-510e-4c1f-bf80-16d846d3b4f2",
   "metadata": {},
   "outputs": [],
   "source": [
    "# Data Visualization\n",
    "import matplotlib.pyplot as plt\n",
    "import seaborn as sns\n",
    "import matplotlib.style as style\n",
    "from PIL import Image\n",
    "from wordcloud import WordCloud,  ImageColorGenerator"
   ]
  },
  {
   "cell_type": "code",
   "execution_count": 7,
   "id": "f1c57457-7ecd-46ee-a476-fc8b5b475b3b",
   "metadata": {},
   "outputs": [
    {
     "data": {
      "image/png": "[encoded data removed]",
      "text/plain": [
       "<Figure size 500x100 with 1 Axes>"
      ]
     },
     "metadata": {},
     "output_type": "display_data"
    }
   ],
   "source": [
    "style.use(\"fivethirtyeight\")\n",
    "colors = [\"#8ecae6\", \"#219ebc\", \"#023047\", \"#ffb703\", \"#fb8500\"]\n",
    "palette = sns.color_palette(colors)\n",
    "sns.palplot(sns.color_palette(colors))\n",
    "plt.show()\n",
    "style.use(\"fivethirtyeight\")"
   ]
  },
  {
   "cell_type": "markdown",
   "id": "7c51b066-8633-42d6-b2cb-d7b01f2edcab",
   "metadata": {},
   "source": [
    "###Importing the Dataset:###"
   ]
  },
  {
   "cell_type": "code",
   "execution_count": 8,
   "id": "26df2684-5b01-4a8b-83c1-c2b42e831e52",
   "metadata": {},
   "outputs": [
    {
     "data": {
      "text/html": [
       "<div>\n",
       "<style scoped>\n",
       "    .dataframe tbody tr th:only-of-type {\n",
       "        vertical-align: middle;\n",
       "    }\n",
       "\n",
       "    .dataframe tbody tr th {\n",
       "        vertical-align: top;\n",
       "    }\n",
       "\n",
       "    .dataframe thead th {\n",
       "        text-align: right;\n",
       "    }\n",
       "</style>\n",
       "<table border=\"1\" class=\"dataframe\">\n",
       "  <thead>\n",
       "    <tr style=\"text-align: right;\">\n",
       "      <th></th>\n",
       "      <th>0</th>\n",
       "      <th>1</th>\n",
       "      <th>2</th>\n",
       "    </tr>\n",
       "  </thead>\n",
       "  <tbody>\n",
       "    <tr>\n",
       "      <th>0</th>\n",
       "      <td>3</td>\n",
       "      <td>more like funchuck</td>\n",
       "      <td>Gave this to my dad for a gag gift after direc...</td>\n",
       "    </tr>\n",
       "    <tr>\n",
       "      <th>1</th>\n",
       "      <td>5</td>\n",
       "      <td>Inspiring</td>\n",
       "      <td>I hope a lot of people hear this cd. We need m...</td>\n",
       "    </tr>\n",
       "    <tr>\n",
       "      <th>2</th>\n",
       "      <td>5</td>\n",
       "      <td>The best soundtrack ever to anything.</td>\n",
       "      <td>I'm reading a lot of reviews saying that this ...</td>\n",
       "    </tr>\n",
       "    <tr>\n",
       "      <th>3</th>\n",
       "      <td>4</td>\n",
       "      <td>Chrono Cross OST</td>\n",
       "      <td>The music of Yasunori Misuda is without questi...</td>\n",
       "    </tr>\n",
       "    <tr>\n",
       "      <th>4</th>\n",
       "      <td>5</td>\n",
       "      <td>Too good to be true</td>\n",
       "      <td>Probably the greatest soundtrack in history! U...</td>\n",
       "    </tr>\n",
       "    <tr>\n",
       "      <th>5</th>\n",
       "      <td>5</td>\n",
       "      <td>There's a reason for the price</td>\n",
       "      <td>There's a reason this CD is so expensive, even...</td>\n",
       "    </tr>\n",
       "    <tr>\n",
       "      <th>6</th>\n",
       "      <td>1</td>\n",
       "      <td>Buyer beware</td>\n",
       "      <td>This is a self-published book, and if you want...</td>\n",
       "    </tr>\n",
       "    <tr>\n",
       "      <th>7</th>\n",
       "      <td>4</td>\n",
       "      <td>Errors, but great story</td>\n",
       "      <td>I was a dissapointed to see errors on the back...</td>\n",
       "    </tr>\n",
       "    <tr>\n",
       "      <th>8</th>\n",
       "      <td>1</td>\n",
       "      <td>The Worst!</td>\n",
       "      <td>A complete waste of time. Typographical errors...</td>\n",
       "    </tr>\n",
       "    <tr>\n",
       "      <th>9</th>\n",
       "      <td>1</td>\n",
       "      <td>Oh please</td>\n",
       "      <td>I guess you have to be a romance novel lover f...</td>\n",
       "    </tr>\n",
       "  </tbody>\n",
       "</table>\n",
       "</div>"
      ],
      "text/plain": [
       "   0                                      1  \\\n",
       "0  3                     more like funchuck   \n",
       "1  5                              Inspiring   \n",
       "2  5  The best soundtrack ever to anything.   \n",
       "3  4                       Chrono Cross OST   \n",
       "4  5                    Too good to be true   \n",
       "5  5         There's a reason for the price   \n",
       "6  1                           Buyer beware   \n",
       "7  4                Errors, but great story   \n",
       "8  1                             The Worst!   \n",
       "9  1                              Oh please   \n",
       "\n",
       "                                                   2  \n",
       "0  Gave this to my dad for a gag gift after direc...  \n",
       "1  I hope a lot of people hear this cd. We need m...  \n",
       "2  I'm reading a lot of reviews saying that this ...  \n",
       "3  The music of Yasunori Misuda is without questi...  \n",
       "4  Probably the greatest soundtrack in history! U...  \n",
       "5  There's a reason this CD is so expensive, even...  \n",
       "6  This is a self-published book, and if you want...  \n",
       "7  I was a dissapointed to see errors on the back...  \n",
       "8  A complete waste of time. Typographical errors...  \n",
       "9  I guess you have to be a romance novel lover f...  "
      ]
     },
     "execution_count": 8,
     "metadata": {},
     "output_type": "execute_result"
    }
   ],
   "source": [
    "import pandas as pd\n",
    "data = pd.read_csv(r'C:\\Users\\rahul\\OneDrive\\Desktop\\artificial Intelligence\\amazon_review_full_csv/train.csv', header=None)\n",
    "data.head(10)"
   ]
  },
  {
   "cell_type": "code",
   "execution_count": 9,
   "id": "004ff5cf-88ea-4b13-92bd-901f5bdee71d",
   "metadata": {},
   "outputs": [
    {
     "data": {
      "text/plain": [
       "(3000000, 3)"
      ]
     },
     "execution_count": 9,
     "metadata": {},
     "output_type": "execute_result"
    }
   ],
   "source": [
    "data.shape"
   ]
  },
  {
   "cell_type": "markdown",
   "id": "ee8aeba6-fef4-4708-80f3-595826690bc2",
   "metadata": {},
   "source": [
    "### Modifying the Dataset:\n",
    "We first name the columns as \"Rating\", \"Title\" and \"Review\".###"
   ]
  },
  {
   "cell_type": "code",
   "execution_count": 10,
   "id": "a54d3b8e-8aa6-4b24-bd5a-262f2e979030",
   "metadata": {},
   "outputs": [
    {
     "name": "stdout",
     "output_type": "stream",
     "text": [
      "Index([0, 1, 2], dtype='int64')\n"
     ]
    }
   ],
   "source": [
    "print(data.columns)"
   ]
  },
  {
   "cell_type": "code",
   "execution_count": 11,
   "id": "41fa595d-a2e6-4dd9-b4b9-f8848f56c2b3",
   "metadata": {},
   "outputs": [],
   "source": [
    "data.columns = [\"Rating\", \"Title\", \"Review\"]"
   ]
  },
  {
   "cell_type": "code",
   "execution_count": 12,
   "id": "eebc2962-826b-45bd-95c2-8a1f5e99ffa6",
   "metadata": {
    "scrolled": true
   },
   "outputs": [
    {
     "data": {
      "text/html": [
       "<div>\n",
       "<style scoped>\n",
       "    .dataframe tbody tr th:only-of-type {\n",
       "        vertical-align: middle;\n",
       "    }\n",
       "\n",
       "    .dataframe tbody tr th {\n",
       "        vertical-align: top;\n",
       "    }\n",
       "\n",
       "    .dataframe thead th {\n",
       "        text-align: right;\n",
       "    }\n",
       "</style>\n",
       "<table border=\"1\" class=\"dataframe\">\n",
       "  <thead>\n",
       "    <tr style=\"text-align: right;\">\n",
       "      <th></th>\n",
       "      <th>Review</th>\n",
       "      <th>Rating</th>\n",
       "    </tr>\n",
       "  </thead>\n",
       "  <tbody>\n",
       "    <tr>\n",
       "      <th>0</th>\n",
       "      <td>more like funchuck Gave this to my dad for a g...</td>\n",
       "      <td>3</td>\n",
       "    </tr>\n",
       "    <tr>\n",
       "      <th>1</th>\n",
       "      <td>Inspiring I hope a lot of people hear this cd....</td>\n",
       "      <td>5</td>\n",
       "    </tr>\n",
       "    <tr>\n",
       "      <th>2</th>\n",
       "      <td>The best soundtrack ever to anything. I'm read...</td>\n",
       "      <td>5</td>\n",
       "    </tr>\n",
       "    <tr>\n",
       "      <th>3</th>\n",
       "      <td>Chrono Cross OST The music of Yasunori Misuda ...</td>\n",
       "      <td>4</td>\n",
       "    </tr>\n",
       "    <tr>\n",
       "      <th>4</th>\n",
       "      <td>Too good to be true Probably the greatest soun...</td>\n",
       "      <td>5</td>\n",
       "    </tr>\n",
       "  </tbody>\n",
       "</table>\n",
       "</div>"
      ],
      "text/plain": [
       "                                              Review  Rating\n",
       "0  more like funchuck Gave this to my dad for a g...       3\n",
       "1  Inspiring I hope a lot of people hear this cd....       5\n",
       "2  The best soundtrack ever to anything. I'm read...       5\n",
       "3  Chrono Cross OST The music of Yasunori Misuda ...       4\n",
       "4  Too good to be true Probably the greatest soun...       5"
      ]
     },
     "execution_count": 12,
     "metadata": {},
     "output_type": "execute_result"
    }
   ],
   "source": [
    "data[\"Review\"] = data[\"Title\"] + \" \" + data[\"Review\"]\n",
    "data = data[['Review', 'Rating']]\n",
    "data.head()"
   ]
  },
  {
   "cell_type": "code",
   "execution_count": 13,
   "id": "f1ebd48e-3c7e-4b87-a98c-b79d5aa919a7",
   "metadata": {},
   "outputs": [
    {
     "data": {
      "text/html": [
       "<div>\n",
       "<style scoped>\n",
       "    .dataframe tbody tr th:only-of-type {\n",
       "        vertical-align: middle;\n",
       "    }\n",
       "\n",
       "    .dataframe tbody tr th {\n",
       "        vertical-align: top;\n",
       "    }\n",
       "\n",
       "    .dataframe thead th {\n",
       "        text-align: right;\n",
       "    }\n",
       "</style>\n",
       "<table border=\"1\" class=\"dataframe\">\n",
       "  <thead>\n",
       "    <tr style=\"text-align: right;\">\n",
       "      <th></th>\n",
       "      <th>Review</th>\n",
       "      <th>Rating</th>\n",
       "    </tr>\n",
       "  </thead>\n",
       "  <tbody>\n",
       "    <tr>\n",
       "      <th>0</th>\n",
       "      <td>more like funchuck Gave this to my dad for a g...</td>\n",
       "      <td>3</td>\n",
       "    </tr>\n",
       "    <tr>\n",
       "      <th>1</th>\n",
       "      <td>Inspiring I hope a lot of people hear this cd....</td>\n",
       "      <td>5</td>\n",
       "    </tr>\n",
       "    <tr>\n",
       "      <th>2</th>\n",
       "      <td>The best soundtrack ever to anything. I'm read...</td>\n",
       "      <td>5</td>\n",
       "    </tr>\n",
       "    <tr>\n",
       "      <th>3</th>\n",
       "      <td>Chrono Cross OST The music of Yasunori Misuda ...</td>\n",
       "      <td>4</td>\n",
       "    </tr>\n",
       "    <tr>\n",
       "      <th>4</th>\n",
       "      <td>Too good to be true Probably the greatest soun...</td>\n",
       "      <td>5</td>\n",
       "    </tr>\n",
       "  </tbody>\n",
       "</table>\n",
       "</div>"
      ],
      "text/plain": [
       "                                              Review  Rating\n",
       "0  more like funchuck Gave this to my dad for a g...       3\n",
       "1  Inspiring I hope a lot of people hear this cd....       5\n",
       "2  The best soundtrack ever to anything. I'm read...       5\n",
       "3  Chrono Cross OST The music of Yasunori Misuda ...       4\n",
       "4  Too good to be true Probably the greatest soun...       5"
      ]
     },
     "execution_count": 13,
     "metadata": {},
     "output_type": "execute_result"
    }
   ],
   "source": [
    "\n",
    "data.head()"
   ]
  },
  {
   "cell_type": "markdown",
   "id": "a7f8fdc1-b285-448f-963f-66651ffbdb81",
   "metadata": {},
   "source": [
    "The sentiment to each review is added by considering a rating above 3 as \"Positive\", below 3 as \"Negative\" and equal to 3 as \"Neutral\"."
   ]
  },
  {
   "cell_type": "code",
   "execution_count": 14,
   "id": "9a4537c2-36f1-411f-a56d-cb04b240e47f",
   "metadata": {},
   "outputs": [],
   "source": [
    "def sentiment(label):\n",
    "    if label<3:\n",
    "        return \"Negative\"\n",
    "    elif label>3:\n",
    "        return \"Positive\"\n",
    "    else:\n",
    "        return \"Neutral\""
   ]
  },
  {
   "cell_type": "code",
   "execution_count": 15,
   "id": "a7bf6cab-4293-4ec2-b542-5af09e5579cc",
   "metadata": {},
   "outputs": [
    {
     "data": {
      "text/html": [
       "<div>\n",
       "<style scoped>\n",
       "    .dataframe tbody tr th:only-of-type {\n",
       "        vertical-align: middle;\n",
       "    }\n",
       "\n",
       "    .dataframe tbody tr th {\n",
       "        vertical-align: top;\n",
       "    }\n",
       "\n",
       "    .dataframe thead th {\n",
       "        text-align: right;\n",
       "    }\n",
       "</style>\n",
       "<table border=\"1\" class=\"dataframe\">\n",
       "  <thead>\n",
       "    <tr style=\"text-align: right;\">\n",
       "      <th></th>\n",
       "      <th>Review</th>\n",
       "      <th>Rating</th>\n",
       "      <th>Sentiment</th>\n",
       "    </tr>\n",
       "  </thead>\n",
       "  <tbody>\n",
       "    <tr>\n",
       "      <th>0</th>\n",
       "      <td>more like funchuck Gave this to my dad for a g...</td>\n",
       "      <td>3</td>\n",
       "      <td>Neutral</td>\n",
       "    </tr>\n",
       "    <tr>\n",
       "      <th>1</th>\n",
       "      <td>Inspiring I hope a lot of people hear this cd....</td>\n",
       "      <td>5</td>\n",
       "      <td>Positive</td>\n",
       "    </tr>\n",
       "    <tr>\n",
       "      <th>2</th>\n",
       "      <td>The best soundtrack ever to anything. I'm read...</td>\n",
       "      <td>5</td>\n",
       "      <td>Positive</td>\n",
       "    </tr>\n",
       "    <tr>\n",
       "      <th>3</th>\n",
       "      <td>Chrono Cross OST The music of Yasunori Misuda ...</td>\n",
       "      <td>4</td>\n",
       "      <td>Positive</td>\n",
       "    </tr>\n",
       "    <tr>\n",
       "      <th>4</th>\n",
       "      <td>Too good to be true Probably the greatest soun...</td>\n",
       "      <td>5</td>\n",
       "      <td>Positive</td>\n",
       "    </tr>\n",
       "    <tr>\n",
       "      <th>5</th>\n",
       "      <td>There's a reason for the price There's a reaso...</td>\n",
       "      <td>5</td>\n",
       "      <td>Positive</td>\n",
       "    </tr>\n",
       "    <tr>\n",
       "      <th>6</th>\n",
       "      <td>Buyer beware This is a self-published book, an...</td>\n",
       "      <td>1</td>\n",
       "      <td>Negative</td>\n",
       "    </tr>\n",
       "    <tr>\n",
       "      <th>7</th>\n",
       "      <td>Errors, but great story I was a dissapointed t...</td>\n",
       "      <td>4</td>\n",
       "      <td>Positive</td>\n",
       "    </tr>\n",
       "    <tr>\n",
       "      <th>8</th>\n",
       "      <td>The Worst! A complete waste of time. Typograph...</td>\n",
       "      <td>1</td>\n",
       "      <td>Negative</td>\n",
       "    </tr>\n",
       "    <tr>\n",
       "      <th>9</th>\n",
       "      <td>Oh please I guess you have to be a romance nov...</td>\n",
       "      <td>1</td>\n",
       "      <td>Negative</td>\n",
       "    </tr>\n",
       "  </tbody>\n",
       "</table>\n",
       "</div>"
      ],
      "text/plain": [
       "                                              Review  Rating Sentiment\n",
       "0  more like funchuck Gave this to my dad for a g...       3   Neutral\n",
       "1  Inspiring I hope a lot of people hear this cd....       5  Positive\n",
       "2  The best soundtrack ever to anything. I'm read...       5  Positive\n",
       "3  Chrono Cross OST The music of Yasunori Misuda ...       4  Positive\n",
       "4  Too good to be true Probably the greatest soun...       5  Positive\n",
       "5  There's a reason for the price There's a reaso...       5  Positive\n",
       "6  Buyer beware This is a self-published book, an...       1  Negative\n",
       "7  Errors, but great story I was a dissapointed t...       4  Positive\n",
       "8  The Worst! A complete waste of time. Typograph...       1  Negative\n",
       "9  Oh please I guess you have to be a romance nov...       1  Negative"
      ]
     },
     "execution_count": 15,
     "metadata": {},
     "output_type": "execute_result"
    }
   ],
   "source": [
    "data['Sentiment'] = data[\"Rating\"].apply(sentiment)\n",
    "data.head(10)"
   ]
  },
  {
   "cell_type": "markdown",
   "id": "9e614861-9dc6-49ed-a09c-4bd78c6e4325",
   "metadata": {},
   "source": [
    "Data Analysis:"
   ]
  },
  {
   "cell_type": "code",
   "execution_count": 16,
   "id": "49964d7d-6ca1-4532-91f2-ad3fe7285822",
   "metadata": {},
   "outputs": [
    {
     "data": {
      "text/plain": [
       "(3000000, 3)"
      ]
     },
     "execution_count": 16,
     "metadata": {},
     "output_type": "execute_result"
    }
   ],
   "source": [
    "data.shape"
   ]
  },
  {
   "cell_type": "code",
   "execution_count": 17,
   "id": "a036a00a-3138-4f4a-afac-d57b63433b7d",
   "metadata": {},
   "outputs": [
    {
     "name": "stdout",
     "output_type": "stream",
     "text": [
      "<class 'pandas.core.frame.DataFrame'>\n",
      "RangeIndex: 3000000 entries, 0 to 2999999\n",
      "Data columns (total 3 columns):\n",
      " #   Column     Dtype \n",
      "---  ------     ----- \n",
      " 0   Review     object\n",
      " 1   Rating     int64 \n",
      " 2   Sentiment  object\n",
      "dtypes: int64(1), object(2)\n",
      "memory usage: 68.7+ MB\n"
     ]
    }
   ],
   "source": [
    "data.info()"
   ]
  },
  {
   "cell_type": "code",
   "execution_count": 18,
   "id": "713ead76-d5d1-4336-877e-f545e8f8d6ae",
   "metadata": {},
   "outputs": [
    {
     "data": {
      "text/plain": [
       "Rating\n",
       "1    600000\n",
       "2    600000\n",
       "3    600000\n",
       "4    600000\n",
       "5    600000\n",
       "Name: count, dtype: int64"
      ]
     },
     "execution_count": 18,
     "metadata": {},
     "output_type": "execute_result"
    }
   ],
   "source": [
    "data.value_counts(\"Rating\")"
   ]
  },
  {
   "cell_type": "code",
   "execution_count": 19,
   "id": "880f79f4-4d13-4c7e-a184-0f574e446749",
   "metadata": {},
   "outputs": [
    {
     "data": {
      "text/plain": [
       "Sentiment\n",
       "Negative    1200000\n",
       "Positive    1200000\n",
       "Neutral      600000\n",
       "Name: count, dtype: int64"
      ]
     },
     "execution_count": 19,
     "metadata": {},
     "output_type": "execute_result"
    }
   ],
   "source": [
    "data.value_counts(\"Sentiment\")"
   ]
  },
  {
   "cell_type": "code",
   "execution_count": 20,
   "id": "165bf55e-6b06-49aa-b061-69f2a1a940d3",
   "metadata": {},
   "outputs": [
    {
     "name": "stderr",
     "output_type": "stream",
     "text": [
      "C:\\Users\\rahul\\AppData\\Local\\Temp\\ipykernel_7064\\2359462227.py:2: FutureWarning: \n",
      "\n",
      "Passing `palette` without assigning `hue` is deprecated and will be removed in v0.14.0. Assign the `x` variable to `hue` and set `legend=False` for the same effect.\n",
      "\n",
      "  sns.countplot(x=\"Sentiment\", data=data,  palette=[\"#f8de7e\",\"#32fa53\",'#fa3232'])\n"
     ]
    },
    {
     "data": {
      "image/png": "[encoded data removed]",
      "text/plain": [
       "<Figure size 500x300 with 1 Axes>"
      ]
     },
     "metadata": {},
     "output_type": "display_data"
    }
   ],
   "source": [
    "plt.figure(figsize=(5,3))\n",
    "sns.countplot(x=\"Sentiment\", data=data,  palette=[\"#f8de7e\",\"#32fa53\",'#fa3232'])\n",
    "plt.title(\"Rating Count\")\n",
    "plt.show()"
   ]
  },
  {
   "cell_type": "code",
   "execution_count": 21,
   "id": "adf06b4c-4898-4c7c-8645-862f51800bad",
   "metadata": {},
   "outputs": [
    {
     "data": {
      "text/plain": [
       "Rating\n",
       "3    0.2\n",
       "5    0.2\n",
       "4    0.2\n",
       "1    0.2\n",
       "2    0.2\n",
       "Name: count, dtype: float64"
      ]
     },
     "execution_count": 21,
     "metadata": {},
     "output_type": "execute_result"
    }
   ],
   "source": [
    "data[\"Rating\"].value_counts()/len(data)"
   ]
  },
  {
   "cell_type": "code",
   "execution_count": 22,
   "id": "f2d68963-4c89-4ba6-827d-0eb0e8f36edc",
   "metadata": {},
   "outputs": [
    {
     "data": {
      "text/plain": [
       "Sentiment\n",
       "Positive    0.4\n",
       "Negative    0.4\n",
       "Neutral     0.2\n",
       "Name: count, dtype: float64"
      ]
     },
     "execution_count": 22,
     "metadata": {},
     "output_type": "execute_result"
    }
   ],
   "source": [
    "data[\"Sentiment\"].value_counts()/len(data)"
   ]
  },
  {
   "cell_type": "code",
   "execution_count": 23,
   "id": "7c68b62f-68d1-47f9-b47e-dad925f31bd0",
   "metadata": {},
   "outputs": [
    {
     "data": {
      "text/plain": [
       "Review       188\n",
       "Rating         0\n",
       "Sentiment      0\n",
       "dtype: int64"
      ]
     },
     "execution_count": 23,
     "metadata": {},
     "output_type": "execute_result"
    }
   ],
   "source": [
    "data.isna().sum()"
   ]
  },
  {
   "cell_type": "raw",
   "id": "d1cc1c81-8d8c-48f4-823e-1cb2d3ffc598",
   "metadata": {},
   "source": [
    "We can see that there are no null values in Ratings or Sentiments, so we do not have to drop any rows. However, there are 188 rows that are empty, so we fill it with an empty string."
   ]
  },
  {
   "cell_type": "code",
   "execution_count": 24,
   "id": "383d4498-1f73-4493-9f32-00d4de86995f",
   "metadata": {},
   "outputs": [
    {
     "data": {
      "text/plain": [
       "Review       0\n",
       "Rating       0\n",
       "Sentiment    0\n",
       "dtype: int64"
      ]
     },
     "execution_count": 24,
     "metadata": {},
     "output_type": "execute_result"
    }
   ],
   "source": [
    "data = data.fillna(' ')\n",
    "data.isna().sum()"
   ]
  },
  {
   "cell_type": "markdown",
   "id": "08e80194-d7ff-4b59-85f0-dbb516d01f98",
   "metadata": {},
   "source": [
    "Number of characters present in each Review:\n",
    "\n",
    "Here I range the number of characters by 500 chars and so on."
   ]
  },
  {
   "cell_type": "code",
   "execution_count": 25,
   "id": "3f366173-4179-4afa-be7e-c268b1a7c95b",
   "metadata": {},
   "outputs": [
    {
     "name": "stderr",
     "output_type": "stream",
     "text": [
      "C:\\Users\\rahul\\AppData\\Local\\Temp\\ipykernel_7064\\3054906179.py:2: FutureWarning: The default of observed=False is deprecated and will be changed to True in a future version of pandas. Pass observed=False to retain current behavior or observed=True to adopt the future default and silence this warning.\n",
      "  text_len = data['Review'].groupby(pd.cut(data['Review'].str.len(), np.arange(0, 20000+500, 500))).count().rename_axis(['Range']).reset_index()\n"
     ]
    },
    {
     "data": {
      "text/html": [
       "<div>\n",
       "<style scoped>\n",
       "    .dataframe tbody tr th:only-of-type {\n",
       "        vertical-align: middle;\n",
       "    }\n",
       "\n",
       "    .dataframe tbody tr th {\n",
       "        vertical-align: top;\n",
       "    }\n",
       "\n",
       "    .dataframe thead th {\n",
       "        text-align: right;\n",
       "    }\n",
       "</style>\n",
       "<table border=\"1\" class=\"dataframe\">\n",
       "  <thead>\n",
       "    <tr style=\"text-align: right;\">\n",
       "      <th></th>\n",
       "      <th>Range</th>\n",
       "      <th>Review</th>\n",
       "    </tr>\n",
       "  </thead>\n",
       "  <tbody>\n",
       "    <tr>\n",
       "      <th>0</th>\n",
       "      <td>(0, 500]</td>\n",
       "      <td>1911735</td>\n",
       "    </tr>\n",
       "    <tr>\n",
       "      <th>1</th>\n",
       "      <td>(500, 1000]</td>\n",
       "      <td>1071380</td>\n",
       "    </tr>\n",
       "    <tr>\n",
       "      <th>2</th>\n",
       "      <td>(1000, 1500]</td>\n",
       "      <td>16885</td>\n",
       "    </tr>\n",
       "    <tr>\n",
       "      <th>3</th>\n",
       "      <td>(1500, 2000]</td>\n",
       "      <td>0</td>\n",
       "    </tr>\n",
       "    <tr>\n",
       "      <th>4</th>\n",
       "      <td>(2000, 2500]</td>\n",
       "      <td>0</td>\n",
       "    </tr>\n",
       "  </tbody>\n",
       "</table>\n",
       "</div>"
      ],
      "text/plain": [
       "          Range   Review\n",
       "0      (0, 500]  1911735\n",
       "1   (500, 1000]  1071380\n",
       "2  (1000, 1500]    16885\n",
       "3  (1500, 2000]        0\n",
       "4  (2000, 2500]        0"
      ]
     },
     "execution_count": 25,
     "metadata": {},
     "output_type": "execute_result"
    }
   ],
   "source": [
    "import numpy as np\n",
    "text_len = data['Review'].groupby(pd.cut(data['Review'].str.len(), np.arange(0, 20000+500, 500))).count().rename_axis(['Range']).reset_index()\n",
    "text_len.head()"
   ]
  },
  {
   "cell_type": "code",
   "execution_count": 26,
   "id": "7d63d252-e650-410d-9c16-ddd1eec402dc",
   "metadata": {},
   "outputs": [
    {
     "data": {
      "text/html": [
       "<div>\n",
       "<style scoped>\n",
       "    .dataframe tbody tr th:only-of-type {\n",
       "        vertical-align: middle;\n",
       "    }\n",
       "\n",
       "    .dataframe tbody tr th {\n",
       "        vertical-align: top;\n",
       "    }\n",
       "\n",
       "    .dataframe thead th {\n",
       "        text-align: right;\n",
       "    }\n",
       "</style>\n",
       "<table border=\"1\" class=\"dataframe\">\n",
       "  <thead>\n",
       "    <tr style=\"text-align: right;\">\n",
       "      <th></th>\n",
       "      <th>Range</th>\n",
       "      <th>Review</th>\n",
       "    </tr>\n",
       "  </thead>\n",
       "  <tbody>\n",
       "    <tr>\n",
       "      <th>0</th>\n",
       "      <td>(0, 500]</td>\n",
       "      <td>1911735</td>\n",
       "    </tr>\n",
       "    <tr>\n",
       "      <th>1</th>\n",
       "      <td>(500, 1000]</td>\n",
       "      <td>1071380</td>\n",
       "    </tr>\n",
       "    <tr>\n",
       "      <th>2</th>\n",
       "      <td>(1000, 1500]</td>\n",
       "      <td>16885</td>\n",
       "    </tr>\n",
       "  </tbody>\n",
       "</table>\n",
       "</div>"
      ],
      "text/plain": [
       "          Range   Review\n",
       "0      (0, 500]  1911735\n",
       "1   (500, 1000]  1071380\n",
       "2  (1000, 1500]    16885"
      ]
     },
     "execution_count": 26,
     "metadata": {},
     "output_type": "execute_result"
    }
   ],
   "source": [
    "text_len_50 = text_len[text_len['Review'] > 50]\n",
    "text_len_50"
   ]
  },
  {
   "cell_type": "code",
   "execution_count": 27,
   "id": "c5fc9b71-5a9f-4caf-9adb-c91eeb4ca7d1",
   "metadata": {},
   "outputs": [
    {
     "name": "stderr",
     "output_type": "stream",
     "text": [
      "C:\\Users\\rahul\\AppData\\Local\\Temp\\ipykernel_7064\\4000903183.py:2: FutureWarning: \n",
      "\n",
      "Passing `palette` without assigning `hue` is deprecated and will be removed in v0.14.0. Assign the `x` variable to `hue` and set `legend=False` for the same effect.\n",
      "\n",
      "  g = sns.barplot( x=text_len_50['Range'][0:10], y=text_len_50['Review'][0:10], palette=palette)\n",
      "C:\\Users\\rahul\\AppData\\Local\\Temp\\ipykernel_7064\\4000903183.py:2: UserWarning: \n",
      "The palette list has fewer values (5) than needed (40) and will cycle, which may produce an uninterpretable plot.\n",
      "  g = sns.barplot( x=text_len_50['Range'][0:10], y=text_len_50['Review'][0:10], palette=palette)\n",
      "C:\\Users\\rahul\\AppData\\Local\\Temp\\ipykernel_7064\\4000903183.py:3: UserWarning: set_ticklabels() should only be used with a fixed number of ticks, i.e. after set_ticks() or using a FixedLocator.\n",
      "  g.set_xticklabels(g.get_xticklabels(), rotation=90)\n"
     ]
    },
    {
     "data": {
      "image/png": "[encoded data removed]",
      "text/plain": [
       "<Figure size 1200x400 with 1 Axes>"
      ]
     },
     "metadata": {},
     "output_type": "display_data"
    }
   ],
   "source": [
    "plt.figure(figsize=(12, 4))\n",
    "g = sns.barplot( x=text_len_50['Range'][0:10], y=text_len_50['Review'][0:10], palette=palette)\n",
    "g.set_xticklabels(g.get_xticklabels(), rotation=90)\n",
    "plt.show()"
   ]
  },
  {
   "cell_type": "code",
   "execution_count": 28,
   "id": "6e0c0c49-9354-4ec2-9594-7315af4b6837",
   "metadata": {},
   "outputs": [
    {
     "name": "stderr",
     "output_type": "stream",
     "text": [
      "C:\\Users\\rahul\\AppData\\Local\\Temp\\ipykernel_7064\\1778809724.py:2: UserWarning: Ignoring `palette` because no `hue` variable has been assigned.\n",
      "  sns.histplot(data=data, x=data['Review'].str.len(), palette=palette)\n"
     ]
    },
    {
     "data": {
      "image/png": "[encoded data removed]",
      "text/plain": [
       "<Figure size 1200x400 with 1 Axes>"
      ]
     },
     "metadata": {},
     "output_type": "display_data"
    }
   ],
   "source": [
    "plt.figure(figsize=(12, 4))\n",
    "sns.histplot(data=data, x=data['Review'].str.len(), palette=palette)\n",
    "plt.show()"
   ]
  },
  {
   "cell_type": "markdown",
   "id": "645d3912-2477-4a47-8c62-266d92d9976f",
   "metadata": {},
   "source": [
    "Sampling the data:\n",
    "Since there are over 35 million reviews in this dataset, we will only use a portion of this for training our models. We will use Stratified Shuffle Split for this.\n",
    "\n",
    "Benefits of StratifiedShuffleSplit:\n",
    "\n",
    "Maintains class balance: This is crucial for sentiment analysis where you have different classes representing positive, negative, and neutral reviews. Stratified sampling ensures the sampled data reflects the same proportion of each class as your original dataset, preventing biases in your model's training.\n",
    "Reduces computational cost: Training on a smaller sample is significantly faster and less resource-intensive compared to using the entire dataset.\n",
    "Provides representative data: Stratified sampling ensures the selected data is representative of the entire population, leading to a more robust and generalizable model."
   ]
  },
  {
   "cell_type": "code",
   "execution_count": 29,
   "id": "0c6f4c68-753e-447d-b01e-904a420c921b",
   "metadata": {},
   "outputs": [],
   "source": [
    "from sklearn.model_selection import StratifiedShuffleSplit, GridSearchCV\n",
    "split = StratifiedShuffleSplit(n_splits=1, test_size=0.97)\n",
    "for train_index, test_index in split.split(data, data[\"Sentiment\"]): \n",
    "    strat_data = data.reindex(train_index)"
   ]
  },
  {
   "cell_type": "code",
   "execution_count": 30,
   "id": "7b9369d6-cd85-4db2-9cbe-e635bba3d88c",
   "metadata": {},
   "outputs": [
    {
     "data": {
      "text/html": [
       "<div>\n",
       "<style scoped>\n",
       "    .dataframe tbody tr th:only-of-type {\n",
       "        vertical-align: middle;\n",
       "    }\n",
       "\n",
       "    .dataframe tbody tr th {\n",
       "        vertical-align: top;\n",
       "    }\n",
       "\n",
       "    .dataframe thead th {\n",
       "        text-align: right;\n",
       "    }\n",
       "</style>\n",
       "<table border=\"1\" class=\"dataframe\">\n",
       "  <thead>\n",
       "    <tr style=\"text-align: right;\">\n",
       "      <th></th>\n",
       "      <th>Review</th>\n",
       "      <th>Rating</th>\n",
       "      <th>Sentiment</th>\n",
       "    </tr>\n",
       "  </thead>\n",
       "  <tbody>\n",
       "    <tr>\n",
       "      <th>1685027</th>\n",
       "      <td>Ok read This was an ok read. I enjoyed the mai...</td>\n",
       "      <td>3</td>\n",
       "      <td>Neutral</td>\n",
       "    </tr>\n",
       "    <tr>\n",
       "      <th>159041</th>\n",
       "      <td>powerful~dark comedy that is uncannily real I ...</td>\n",
       "      <td>5</td>\n",
       "      <td>Positive</td>\n",
       "    </tr>\n",
       "    <tr>\n",
       "      <th>2105442</th>\n",
       "      <td>Great for beginners This is a great book for b...</td>\n",
       "      <td>4</td>\n",
       "      <td>Positive</td>\n",
       "    </tr>\n",
       "    <tr>\n",
       "      <th>382094</th>\n",
       "      <td>RATHER PATHETIC The protagonist Gordon Comstoc...</td>\n",
       "      <td>3</td>\n",
       "      <td>Neutral</td>\n",
       "    </tr>\n",
       "    <tr>\n",
       "      <th>503387</th>\n",
       "      <td>SOMETHING BEYOND THE RETRO FASHION FEST WOULD'...</td>\n",
       "      <td>2</td>\n",
       "      <td>Negative</td>\n",
       "    </tr>\n",
       "    <tr>\n",
       "      <th>102260</th>\n",
       "      <td>WideScreen is no screen I don't understand thi...</td>\n",
       "      <td>1</td>\n",
       "      <td>Negative</td>\n",
       "    </tr>\n",
       "    <tr>\n",
       "      <th>2223405</th>\n",
       "      <td>Stash fails splendidly this time. The flavors ...</td>\n",
       "      <td>2</td>\n",
       "      <td>Negative</td>\n",
       "    </tr>\n",
       "    <tr>\n",
       "      <th>2102727</th>\n",
       "      <td>Brilliant and well presented overview ! Really...</td>\n",
       "      <td>4</td>\n",
       "      <td>Positive</td>\n",
       "    </tr>\n",
       "    <tr>\n",
       "      <th>1288211</th>\n",
       "      <td>Priced right I was surprised how large this sc...</td>\n",
       "      <td>4</td>\n",
       "      <td>Positive</td>\n",
       "    </tr>\n",
       "    <tr>\n",
       "      <th>2118047</th>\n",
       "      <td>what climax? Very strange book indeed. One of ...</td>\n",
       "      <td>2</td>\n",
       "      <td>Negative</td>\n",
       "    </tr>\n",
       "  </tbody>\n",
       "</table>\n",
       "</div>"
      ],
      "text/plain": [
       "                                                    Review  Rating Sentiment\n",
       "1685027  Ok read This was an ok read. I enjoyed the mai...       3   Neutral\n",
       "159041   powerful~dark comedy that is uncannily real I ...       5  Positive\n",
       "2105442  Great for beginners This is a great book for b...       4  Positive\n",
       "382094   RATHER PATHETIC The protagonist Gordon Comstoc...       3   Neutral\n",
       "503387   SOMETHING BEYOND THE RETRO FASHION FEST WOULD'...       2  Negative\n",
       "102260   WideScreen is no screen I don't understand thi...       1  Negative\n",
       "2223405  Stash fails splendidly this time. The flavors ...       2  Negative\n",
       "2102727  Brilliant and well presented overview ! Really...       4  Positive\n",
       "1288211  Priced right I was surprised how large this sc...       4  Positive\n",
       "2118047  what climax? Very strange book indeed. One of ...       2  Negative"
      ]
     },
     "execution_count": 30,
     "metadata": {},
     "output_type": "execute_result"
    }
   ],
   "source": [
    "strat_data.head(10)"
   ]
  },
  {
   "cell_type": "markdown",
   "id": "bbe12fce-6986-4c24-8f65-469887a8050c",
   "metadata": {},
   "source": [
    "We take a sample dataset of 75000 rows."
   ]
  },
  {
   "cell_type": "code",
   "execution_count": 31,
   "id": "00d581a9-e6e8-4d19-b7cf-89ef99b6b5ca",
   "metadata": {},
   "outputs": [
    {
     "data": {
      "text/plain": [
       "(90000, 3)"
      ]
     },
     "execution_count": 31,
     "metadata": {},
     "output_type": "execute_result"
    }
   ],
   "source": [
    "strat_data.shape"
   ]
  },
  {
   "cell_type": "code",
   "execution_count": 32,
   "id": "2ca7ecb9-0bcb-464a-93c1-dea4e6bc1453",
   "metadata": {},
   "outputs": [
    {
     "data": {
      "text/plain": [
       "Sentiment\n",
       "Negative    36000\n",
       "Positive    36000\n",
       "Neutral     18000\n",
       "Name: count, dtype: int64"
      ]
     },
     "execution_count": 32,
     "metadata": {},
     "output_type": "execute_result"
    }
   ],
   "source": [
    "strat_data.value_counts(\"Sentiment\")"
   ]
  },
  {
   "cell_type": "markdown",
   "id": "8c05ebeb-f5d3-47cc-b3cf-737e3953da5a",
   "metadata": {},
   "source": [
    "Cleaning data:\n",
    "Cleaning data includes\n",
    "\n",
    "Tokenization: Tokenization is the process of converting text into tokens before transforming it into vectors.\n",
    "Stop Words Removal: Stop words are the most commonly occuring words which are not relevant in the context of the data and do not contribute any deeper meaning to the phrase.\n",
    "Normalization: Words which look different due to casing or written another way but are the same in meaning need to be process correctly. Normalisation processes ensure that these words are treated equally. This includes:\n",
    "Casing the characters: Converting character to the same case so the same words are recognised as the same. In this case we converted to lowercase\n",
    "Negation Handling\n",
    "Lemmetization: This process finds the base or dictionary form of the word known as the lemma."
   ]
  },
  {
   "cell_type": "code",
   "execution_count": 33,
   "id": "78d2098f-d229-48d2-852e-fcac6e02581f",
   "metadata": {},
   "outputs": [
    {
     "name": "stderr",
     "output_type": "stream",
     "text": [
      "[nltk_data] Downloading package wordnet to\n",
      "[nltk_data]     C:\\Users\\rahul\\AppData\\Roaming\\nltk_data...\n",
      "[nltk_data]   Package wordnet is already up-to-date!\n"
     ]
    },
    {
     "data": {
      "text/plain": [
       "True"
      ]
     },
     "execution_count": 33,
     "metadata": {},
     "output_type": "execute_result"
    }
   ],
   "source": [
    "import nltk\n",
    "nltk.download('wordnet')"
   ]
  },
  {
   "cell_type": "code",
   "execution_count": 34,
   "id": "b4a1173c-0e73-42e8-8609-244d50a04c42",
   "metadata": {},
   "outputs": [],
   "source": [
    "def preprocess_text(text):\n",
    "    # Make text lowercase and remove links, text in square brackets, punctuation, and words containing numbers\n",
    "    text = str(text)\n",
    "    text = text.lower()\n",
    "    text = re.sub(r'https?://\\S+|www\\.\\S+|\\[.*?\\]|[^a-zA-Z\\s]+|\\w*\\d\\w*', ' ', text)\n",
    "\n",
    "    # Remove stop words\n",
    "    stop_words = set(stopwords.words(\"english\"))\n",
    "    words = text.split()\n",
    "    filtered_words = [word for word in words if word not in stop_words]\n",
    "    text = ' '.join(filtered_words).strip()\n",
    "\n",
    "    # Tokenize\n",
    "    tokens = nltk.word_tokenize(text)\n",
    "\n",
    "    # Lemmatize\n",
    "    lemmatizer = WordNetLemmatizer()\n",
    "    lem_tokens = [lemmatizer.lemmatize(token) for token in tokens]\n",
    "    \n",
    "    return ' '.join(lem_tokens)"
   ]
  },
  {
   "cell_type": "markdown",
   "id": "19db0191-8b38-4a47-8fbe-067c4d4b375d",
   "metadata": {},
   "source": [
    "for example\n"
   ]
  },
  {
   "cell_type": "code",
   "execution_count": 35,
   "id": "88cbce1e-0f1a-43d9-ad46-a80896199cee",
   "metadata": {},
   "outputs": [
    {
     "name": "stderr",
     "output_type": "stream",
     "text": [
      "[nltk_data] Downloading package punkt to\n",
      "[nltk_data]     C:\\Users\\rahul\\AppData\\Roaming\\nltk_data...\n",
      "[nltk_data]   Package punkt is already up-to-date!\n",
      "[nltk_data] Downloading package stopwords to\n",
      "[nltk_data]     C:\\Users\\rahul\\AppData\\Roaming\\nltk_data...\n",
      "[nltk_data]   Package stopwords is already up-to-date!\n",
      "[nltk_data] Downloading package wordnet to\n",
      "[nltk_data]     C:\\Users\\rahul\\AppData\\Roaming\\nltk_data...\n",
      "[nltk_data]   Package wordnet is already up-to-date!\n",
      "[nltk_data] Downloading package omw-1.4 to\n",
      "[nltk_data]     C:\\Users\\rahul\\AppData\\Roaming\\nltk_data...\n",
      "[nltk_data]   Package omw-1.4 is already up-to-date!\n"
     ]
    },
    {
     "data": {
      "text/plain": [
       "True"
      ]
     },
     "execution_count": 35,
     "metadata": {},
     "output_type": "execute_result"
    }
   ],
   "source": [
    "import nltk\n",
    "\n",
    "# Download necessary corpora\n",
    "nltk.download('punkt')         # for word_tokenize\n",
    "nltk.download('stopwords')     # for stopwords\n",
    "nltk.download('wordnet')       # for WordNetLemmatizer\n",
    "nltk.download('omw-1.4')       # lemmatizer support files"
   ]
  },
  {
   "cell_type": "code",
   "execution_count": 36,
   "id": "26ce662b-9272-42ac-acc2-a8d6f6c2b208",
   "metadata": {},
   "outputs": [],
   "source": [
    "def preprocess_text(text):\n",
    "    # Make text lowercase and remove links, text in square brackets, punctuation, and words containing numbers\n",
    "    text = str(text)\n",
    "    text = text.lower()\n",
    "    text = re.sub(r'https?://\\S+|www\\.\\S+|\\[.*?\\]|[^a-zA-Z\\s]+|\\w*\\d\\w*', ' ', text)\n",
    "\n",
    "    # Remove stop words\n",
    "    stop_words = set(stopwords.words(\"english\"))\n",
    "    words = text.split()\n",
    "    filtered_words = [word for word in words if word not in stop_words]\n",
    "    text = ' '.join(filtered_words).strip()\n",
    "\n",
    "    # Tokenize\n",
    "    tokens = nltk.word_tokenize(text)\n",
    "\n",
    "    # Lemmatize\n",
    "    lemmatizer = WordNetLemmatizer()\n",
    "    lem_tokens = [lemmatizer.lemmatize(token) for token in tokens]\n",
    "    \n",
    "    return ' '.join(lem_tokens)"
   ]
  },
  {
   "cell_type": "code",
   "execution_count": 37,
   "id": "4e3b106d-ed32-43f7-987f-eb3b67f6624b",
   "metadata": {},
   "outputs": [],
   "source": [
    "import re\n",
    "from nltk import word_tokenize\n",
    "from nltk.corpus import stopwords\n",
    "from nltk.stem import PorterStemmer\n",
    "from nltk.stem import WordNetLemmatizer"
   ]
  },
  {
   "cell_type": "code",
   "execution_count": 38,
   "id": "755b6010-2135-4e86-bc65-51d90844a6d4",
   "metadata": {},
   "outputs": [
    {
     "name": "stderr",
     "output_type": "stream",
     "text": [
      "[nltk_data] Downloading package punkt_tab to\n",
      "[nltk_data]     C:\\Users\\rahul\\AppData\\Roaming\\nltk_data...\n",
      "[nltk_data]   Package punkt_tab is already up-to-date!\n"
     ]
    },
    {
     "data": {
      "text/plain": [
       "True"
      ]
     },
     "execution_count": 38,
     "metadata": {},
     "output_type": "execute_result"
    }
   ],
   "source": [
    "import nltk\n",
    "nltk.download('punkt_tab')"
   ]
  },
  {
   "cell_type": "code",
   "execution_count": 39,
   "id": "652c73ec-b648-40de-9ff9-384fb3011f73",
   "metadata": {},
   "outputs": [
    {
     "data": {
      "text/plain": [
       "'best soundtrack ever anything reading lot review saying best game soundtrack figured write review disagree bit opinino yasunori mitsuda ultimate masterpiece music timeless listening year beauty simply refuse fade price tag pretty staggering must say going buy cd much money one feel would worth every penny'"
      ]
     },
     "execution_count": 39,
     "metadata": {},
     "output_type": "execute_result"
    }
   ],
   "source": [
    "preprocess_text(data[\"Review\"][2])"
   ]
  },
  {
   "cell_type": "code",
   "execution_count": 40,
   "id": "75670870-1ecf-4bf8-b0e9-cf14297a4e4a",
   "metadata": {},
   "outputs": [
    {
     "data": {
      "text/plain": [
       "'fabulous book completely instrumental guiding husband timberframing pursuit read much cover binding fallen broken hold best reference diyer look starting structure'"
      ]
     },
     "execution_count": 40,
     "metadata": {},
     "output_type": "execute_result"
    }
   ],
   "source": [
    "preprocess_text(data[\"Review\"][110])"
   ]
  },
  {
   "cell_type": "code",
   "execution_count": 41,
   "id": "d92bd7f2-64e4-469b-9623-520cc41067de",
   "metadata": {},
   "outputs": [
    {
     "name": "stdout",
     "output_type": "stream",
     "text": [
      "                                                    Review  Rating Sentiment\n",
      "1685027  ok read ok read enjoyed main character matthew...       3   Neutral\n",
      "159041   powerful dark comedy uncannily real finished v...       5  Positive\n",
      "2105442  great beginner great book beginner investor wa...       4  Positive\n",
      "382094   rather pathetic protagonist gordon comstock ra...       3   Neutral\n",
      "503387   something beyond retro fashion fest would nice...       2  Negative\n",
      "102260   widescreen screen understand whole widescreen ...       1  Negative\n",
      "2223405  stash fails splendidly time flavor immediately...       2  Negative\n",
      "2102727  brilliant well presented overview really great...       4  Positive\n",
      "1288211  priced right surprised large scope actually lo...       4  Positive\n",
      "2118047  climax strange book indeed one favorite koontz...       2  Negative\n"
     ]
    }
   ],
   "source": [
    "strat_data[\"Review\"] = strat_data[\"Review\"].apply(preprocess_text)\n",
    "print(strat_data.head(10))"
   ]
  },
  {
   "cell_type": "markdown",
   "id": "e784ec10-3dfe-44f6-9b9a-37f519266c7c",
   "metadata": {},
   "source": [
    "Word Cloud:"
   ]
  },
  {
   "cell_type": "code",
   "execution_count": 42,
   "id": "7f751ec3-1566-4ed9-9ec2-f7bb09d306ce",
   "metadata": {},
   "outputs": [],
   "source": [
    "txt = \"\".join(strat_data[\"Review\"].tolist())"
   ]
  },
  {
   "cell_type": "code",
   "execution_count": 43,
   "id": "ee981f2b-85b3-4f8f-a5c7-e78b668d7257",
   "metadata": {},
   "outputs": [
    {
     "data": {
      "text/plain": [
       "24010471"
      ]
     },
     "execution_count": 43,
     "metadata": {},
     "output_type": "execute_result"
    }
   ],
   "source": [
    "len(txt)"
   ]
  },
  {
   "cell_type": "code",
   "execution_count": 44,
   "id": "c31c13c7-9b96-45cb-8adb-2626727fdb24",
   "metadata": {},
   "outputs": [
    {
     "data": {
      "image/png": "[encoded data removed]",
      "text/plain": [
       "<Figure size 600x600 with 1 Axes>"
      ]
     },
     "metadata": {},
     "output_type": "display_data"
    }
   ],
   "source": [
    "amazon_mask = np.array(Image.open(requests.get('https://pngimg.com/uploads/amazon/amazon_PNG4.png', stream=True).raw))\n",
    "\n",
    "wc = WordCloud(width = 300, height = 200, random_state=1, background_color='white', colormap='Set2', collocations=False, mask=amazon_mask).generate(txt)\n",
    "image_colors = ImageColorGenerator(amazon_mask)\n",
    "wc.recolor(color_func=image_colors)\n",
    "plt.figure(figsize=(6,6))\n",
    "plt.axis(\"off\")\n",
    "plt.tight_layout(pad=0)\n",
    "plt.imshow(wc, interpolation='bilinear')\n",
    "plt.title(\"Amazon Reviews Word Cloud\", fontsize = 15)\n",
    "plt.savefig('wordcloud.png')\n",
    "plt.show()"
   ]
  },
  {
   "cell_type": "markdown",
   "id": "f8d40cd1-117e-421c-920e-ba2c43b30b81",
   "metadata": {},
   "source": [
    "Vectorization:\n",
    "Count Vectorization:\n",
    "\n",
    "Count vectoriser transforms a given text into a vector on the basis of the frequency of each word that occurs in the entire text. It is helpful when we have multiple such texts, and we wish to convert each word in each text into vectors"
   ]
  },
  {
   "cell_type": "code",
   "execution_count": 45,
   "id": "684e418b-14e5-411a-8fcc-07ad287091b4",
   "metadata": {},
   "outputs": [
    {
     "data": {
      "image/png": "[encoded data removed]",
      "text/plain": [
       "<Figure size 800x550 with 1 Axes>"
      ]
     },
     "metadata": {},
     "output_type": "display_data"
    }
   ],
   "source": [
    "def word_distribution(text):\n",
    "    vectorizer = CountVectorizer()\n",
    "    docs = vectorizer.fit_transform(text)\n",
    "    features = vectorizer.get_feature_names_out()\n",
    "    \n",
    "    # Freq Dist Visualizer\n",
    "    visualizer = FreqDistVisualizer(features=features, orient='v')\n",
    "    visualizer.fit(docs)\n",
    "    visualizer.show()\n",
    "\n",
    "word_distribution(strat_data['Review'])"
   ]
  },
  {
   "cell_type": "markdown",
   "id": "e2e68e6c-05a4-412f-bceb-acd7ef42b986",
   "metadata": {},
   "source": [
    "TF-IDF Vectorizer:\n",
    "\n",
    "Term frequency-inverse document frequency is a text vectorizer that transforms the text into a usable vector. It combines 2 concepts, Term Frequency (TF) and Document Frequency (DF).\n",
    "\n",
    "The term frequency is the number of occurrences of a specific term in a document. Term frequency indicates how important a specific term in a document. Term frequency represents every text from the data as a matrix whose rows are the number of documents and columns are the number of distinct terms throughout all documents.\n",
    "\n",
    "Document frequency is the number of documents containing a specific term. Document frequency indicates how common the term is.Inverse document frequency (IDF) is the weight of a term, it aims to reduce the weight of a term if the term’s occurrences are scattered throughout all the documents."
   ]
  },
  {
   "cell_type": "code",
   "execution_count": 46,
   "id": "9297e90d-ff6a-41fa-8c4f-95ecfdd9b33e",
   "metadata": {},
   "outputs": [],
   "source": [
    "tfidf_vectorizer = TfidfVectorizer(max_features = 5000, ngram_range = (1,3))"
   ]
  },
  {
   "cell_type": "code",
   "execution_count": 47,
   "id": "362af071-c55f-4c6a-893b-0d27731c037d",
   "metadata": {},
   "outputs": [
    {
     "data": {
      "text/plain": [
       "<Compressed Sparse Row sparse matrix of dtype 'float64'\n",
       "\twith 2799029 stored elements and shape (90000, 5000)>"
      ]
     },
     "execution_count": 47,
     "metadata": {},
     "output_type": "execute_result"
    }
   ],
   "source": [
    "X_tfidf = tfidf_vectorizer.fit_transform(strat_data['Review'])\n",
    "X_tfidf"
   ]
  },
  {
   "cell_type": "code",
   "execution_count": 48,
   "id": "cbba37f6-407d-438a-926e-6e0960d4fbf2",
   "metadata": {},
   "outputs": [
    {
     "data": {
      "text/plain": [
       "(90000, 5000)"
      ]
     },
     "execution_count": 48,
     "metadata": {},
     "output_type": "execute_result"
    }
   ],
   "source": [
    "X_tfidf.shape"
   ]
  },
  {
   "cell_type": "code",
   "execution_count": 49,
   "id": "7f2bdbd0-6cd4-4764-830f-5c8e3c83887c",
   "metadata": {},
   "outputs": [
    {
     "data": {
      "text/plain": [
       "(90000,)"
      ]
     },
     "execution_count": 49,
     "metadata": {},
     "output_type": "execute_result"
    }
   ],
   "source": [
    "y = strat_data[\"Sentiment\"]\n",
    "y.shape"
   ]
  },
  {
   "cell_type": "markdown",
   "id": "e20d2e4a-2d85-45e1-9535-3b8b6527649f",
   "metadata": {},
   "source": [
    "Training the model using Logistic Regression"
   ]
  },
  {
   "cell_type": "code",
   "execution_count": 50,
   "id": "db622f56-342e-46a5-bc11-9f8318c003a4",
   "metadata": {},
   "outputs": [],
   "source": [
    "X_train, X_test, y_train, y_test = train_test_split(X_tfidf, y, random_state = 42,test_size = 0.20)"
   ]
  },
  {
   "cell_type": "code",
   "execution_count": 51,
   "id": "21e8f975-3677-4abf-b7c9-7a296a35781e",
   "metadata": {},
   "outputs": [
    {
     "name": "stdout",
     "output_type": "stream",
     "text": [
      "(72000, 5000)\n",
      "Number of Training Samples: 72000\n",
      "(72000,)\n",
      "Number of Training Samples: 72000\n",
      "(18000, 5000)\n",
      "Number of Training Samples: 72000\n",
      "(18000,)\n",
      "Number of Training Samples: 72000\n"
     ]
    }
   ],
   "source": [
    "print(X_train.shape)\n",
    "print(f\"Number of Training Samples: {X_train.shape[0]}\")\n",
    "print(y_train.shape)\n",
    "print(f\"Number of Training Samples: {X_train.shape[0]}\")\n",
    "print(X_test.shape)\n",
    "print(f\"Number of Training Samples: {X_train.shape[0]}\")\n",
    "print(y_test.shape)\n",
    "print(f\"Number of Training Samples: {X_train.shape[0]}\")"
   ]
  },
  {
   "cell_type": "code",
   "execution_count": 52,
   "id": "53db706e-3957-445c-a857-9ce0cde95c6a",
   "metadata": {},
   "outputs": [
    {
     "name": "stderr",
     "output_type": "stream",
     "text": [
      "C:\\ProgramData\\anaconda3\\Lib\\site-packages\\sklearn\\linear_model\\_logistic.py:465: ConvergenceWarning: lbfgs failed to converge (status=1):\n",
      "STOP: TOTAL NO. OF ITERATIONS REACHED LIMIT.\n",
      "\n",
      "Increase the number of iterations (max_iter) or scale the data as shown in:\n",
      "    https://scikit-learn.org/stable/modules/preprocessing.html\n",
      "Please also refer to the documentation for alternative solver options:\n",
      "    https://scikit-learn.org/stable/modules/linear_model.html#logistic-regression\n",
      "  n_iter_i = _check_optimize_result(\n"
     ]
    },
    {
     "data": {
      "text/html": [
       "<style>#sk-container-id-1 {\n",
       "  /* Definition of color scheme common for light and dark mode */\n",
       "  --sklearn-color-text: #000;\n",
       "  --sklearn-color-text-muted: #666;\n",
       "  --sklearn-color-line: gray;\n",
       "  /* Definition of color scheme for unfitted estimators */\n",
       "  --sklearn-color-unfitted-level-0: #fff5e6;\n",
       "  --sklearn-color-unfitted-level-1: #f6e4d2;\n",
       "  --sklearn-color-unfitted-level-2: #ffe0b3;\n",
       "  --sklearn-color-unfitted-level-3: chocolate;\n",
       "  /* Definition of color scheme for fitted estimators */\n",
       "  --sklearn-color-fitted-level-0: #f0f8ff;\n",
       "  --sklearn-color-fitted-level-1: #d4ebff;\n",
       "  --sklearn-color-fitted-level-2: #b3dbfd;\n",
       "  --sklearn-color-fitted-level-3: cornflowerblue;\n",
       "\n",
       "  /* Specific color for light theme */\n",
       "  --sklearn-color-text-on-default-background: var(--sg-text-color, var(--theme-code-foreground, var(--jp-content-font-color1, black)));\n",
       "  --sklearn-color-background: var(--sg-background-color, var(--theme-background, var(--jp-layout-color0, white)));\n",
       "  --sklearn-color-border-box: var(--sg-text-color, var(--theme-code-foreground, var(--jp-content-font-color1, black)));\n",
       "  --sklearn-color-icon: #696969;\n",
       "\n",
       "  @media (prefers-color-scheme: dark) {\n",
       "    /* Redefinition of color scheme for dark theme */\n",
       "    --sklearn-color-text-on-default-background: var(--sg-text-color, var(--theme-code-foreground, var(--jp-content-font-color1, white)));\n",
       "    --sklearn-color-background: var(--sg-background-color, var(--theme-background, var(--jp-layout-color0, #111)));\n",
       "    --sklearn-color-border-box: var(--sg-text-color, var(--theme-code-foreground, var(--jp-content-font-color1, white)));\n",
       "    --sklearn-color-icon: #878787;\n",
       "  }\n",
       "}\n",
       "\n",
       "#sk-container-id-1 {\n",
       "  color: var(--sklearn-color-text);\n",
       "}\n",
       "\n",
       "#sk-container-id-1 pre {\n",
       "  padding: 0;\n",
       "}\n",
       "\n",
       "#sk-container-id-1 input.sk-hidden--visually {\n",
       "  border: 0;\n",
       "  clip: rect(1px 1px 1px 1px);\n",
       "  clip: rect(1px, 1px, 1px, 1px);\n",
       "  height: 1px;\n",
       "  margin: -1px;\n",
       "  overflow: hidden;\n",
       "  padding: 0;\n",
       "  position: absolute;\n",
       "  width: 1px;\n",
       "}\n",
       "\n",
       "#sk-container-id-1 div.sk-dashed-wrapped {\n",
       "  border: 1px dashed var(--sklearn-color-line);\n",
       "  margin: 0 0.4em 0.5em 0.4em;\n",
       "  box-sizing: border-box;\n",
       "  padding-bottom: 0.4em;\n",
       "  background-color: var(--sklearn-color-background);\n",
       "}\n",
       "\n",
       "#sk-container-id-1 div.sk-container {\n",
       "  /* jupyter's `normalize.less` sets `[hidden] { display: none; }`\n",
       "     but bootstrap.min.css set `[hidden] { display: none !important; }`\n",
       "     so we also need the `!important` here to be able to override the\n",
       "     default hidden behavior on the sphinx rendered scikit-learn.org.\n",
       "     See: https://github.com/scikit-learn/scikit-learn/issues/21755 */\n",
       "  display: inline-block !important;\n",
       "  position: relative;\n",
       "}\n",
       "\n",
       "#sk-container-id-1 div.sk-text-repr-fallback {\n",
       "  display: none;\n",
       "}\n",
       "\n",
       "div.sk-parallel-item,\n",
       "div.sk-serial,\n",
       "div.sk-item {\n",
       "  /* draw centered vertical line to link estimators */\n",
       "  background-image: linear-gradient(var(--sklearn-color-text-on-default-background), var(--sklearn-color-text-on-default-background));\n",
       "  background-size: 2px 100%;\n",
       "  background-repeat: no-repeat;\n",
       "  background-position: center center;\n",
       "}\n",
       "\n",
       "/* Parallel-specific style estimator block */\n",
       "\n",
       "#sk-container-id-1 div.sk-parallel-item::after {\n",
       "  content: \"\";\n",
       "  width: 100%;\n",
       "  border-bottom: 2px solid var(--sklearn-color-text-on-default-background);\n",
       "  flex-grow: 1;\n",
       "}\n",
       "\n",
       "#sk-container-id-1 div.sk-parallel {\n",
       "  display: flex;\n",
       "  align-items: stretch;\n",
       "  justify-content: center;\n",
       "  background-color: var(--sklearn-color-background);\n",
       "  position: relative;\n",
       "}\n",
       "\n",
       "#sk-container-id-1 div.sk-parallel-item {\n",
       "  display: flex;\n",
       "  flex-direction: column;\n",
       "}\n",
       "\n",
       "#sk-container-id-1 div.sk-parallel-item:first-child::after {\n",
       "  align-self: flex-end;\n",
       "  width: 50%;\n",
       "}\n",
       "\n",
       "#sk-container-id-1 div.sk-parallel-item:last-child::after {\n",
       "  align-self: flex-start;\n",
       "  width: 50%;\n",
       "}\n",
       "\n",
       "#sk-container-id-1 div.sk-parallel-item:only-child::after {\n",
       "  width: 0;\n",
       "}\n",
       "\n",
       "/* Serial-specific style estimator block */\n",
       "\n",
       "#sk-container-id-1 div.sk-serial {\n",
       "  display: flex;\n",
       "  flex-direction: column;\n",
       "  align-items: center;\n",
       "  background-color: var(--sklearn-color-background);\n",
       "  padding-right: 1em;\n",
       "  padding-left: 1em;\n",
       "}\n",
       "\n",
       "\n",
       "/* Toggleable style: style used for estimator/Pipeline/ColumnTransformer box that is\n",
       "clickable and can be expanded/collapsed.\n",
       "- Pipeline and ColumnTransformer use this feature and define the default style\n",
       "- Estimators will overwrite some part of the style using the `sk-estimator` class\n",
       "*/\n",
       "\n",
       "/* Pipeline and ColumnTransformer style (default) */\n",
       "\n",
       "#sk-container-id-1 div.sk-toggleable {\n",
       "  /* Default theme specific background. It is overwritten whether we have a\n",
       "  specific estimator or a Pipeline/ColumnTransformer */\n",
       "  background-color: var(--sklearn-color-background);\n",
       "}\n",
       "\n",
       "/* Toggleable label */\n",
       "#sk-container-id-1 label.sk-toggleable__label {\n",
       "  cursor: pointer;\n",
       "  display: flex;\n",
       "  width: 100%;\n",
       "  margin-bottom: 0;\n",
       "  padding: 0.5em;\n",
       "  box-sizing: border-box;\n",
       "  text-align: center;\n",
       "  align-items: start;\n",
       "  justify-content: space-between;\n",
       "  gap: 0.5em;\n",
       "}\n",
       "\n",
       "#sk-container-id-1 label.sk-toggleable__label .caption {\n",
       "  font-size: 0.6rem;\n",
       "  font-weight: lighter;\n",
       "  color: var(--sklearn-color-text-muted);\n",
       "}\n",
       "\n",
       "#sk-container-id-1 label.sk-toggleable__label-arrow:before {\n",
       "  /* Arrow on the left of the label */\n",
       "  content: \"▸\";\n",
       "  float: left;\n",
       "  margin-right: 0.25em;\n",
       "  color: var(--sklearn-color-icon);\n",
       "}\n",
       "\n",
       "#sk-container-id-1 label.sk-toggleable__label-arrow:hover:before {\n",
       "  color: var(--sklearn-color-text);\n",
       "}\n",
       "\n",
       "/* Toggleable content - dropdown */\n",
       "\n",
       "#sk-container-id-1 div.sk-toggleable__content {\n",
       "  max-height: 0;\n",
       "  max-width: 0;\n",
       "  overflow: hidden;\n",
       "  text-align: left;\n",
       "  /* unfitted */\n",
       "  background-color: var(--sklearn-color-unfitted-level-0);\n",
       "}\n",
       "\n",
       "#sk-container-id-1 div.sk-toggleable__content.fitted {\n",
       "  /* fitted */\n",
       "  background-color: var(--sklearn-color-fitted-level-0);\n",
       "}\n",
       "\n",
       "#sk-container-id-1 div.sk-toggleable__content pre {\n",
       "  margin: 0.2em;\n",
       "  border-radius: 0.25em;\n",
       "  color: var(--sklearn-color-text);\n",
       "  /* unfitted */\n",
       "  background-color: var(--sklearn-color-unfitted-level-0);\n",
       "}\n",
       "\n",
       "#sk-container-id-1 div.sk-toggleable__content.fitted pre {\n",
       "  /* unfitted */\n",
       "  background-color: var(--sklearn-color-fitted-level-0);\n",
       "}\n",
       "\n",
       "#sk-container-id-1 input.sk-toggleable__control:checked~div.sk-toggleable__content {\n",
       "  /* Expand drop-down */\n",
       "  max-height: 200px;\n",
       "  max-width: 100%;\n",
       "  overflow: auto;\n",
       "}\n",
       "\n",
       "#sk-container-id-1 input.sk-toggleable__control:checked~label.sk-toggleable__label-arrow:before {\n",
       "  content: \"▾\";\n",
       "}\n",
       "\n",
       "/* Pipeline/ColumnTransformer-specific style */\n",
       "\n",
       "#sk-container-id-1 div.sk-label input.sk-toggleable__control:checked~label.sk-toggleable__label {\n",
       "  color: var(--sklearn-color-text);\n",
       "  background-color: var(--sklearn-color-unfitted-level-2);\n",
       "}\n",
       "\n",
       "#sk-container-id-1 div.sk-label.fitted input.sk-toggleable__control:checked~label.sk-toggleable__label {\n",
       "  background-color: var(--sklearn-color-fitted-level-2);\n",
       "}\n",
       "\n",
       "/* Estimator-specific style */\n",
       "\n",
       "/* Colorize estimator box */\n",
       "#sk-container-id-1 div.sk-estimator input.sk-toggleable__control:checked~label.sk-toggleable__label {\n",
       "  /* unfitted */\n",
       "  background-color: var(--sklearn-color-unfitted-level-2);\n",
       "}\n",
       "\n",
       "#sk-container-id-1 div.sk-estimator.fitted input.sk-toggleable__control:checked~label.sk-toggleable__label {\n",
       "  /* fitted */\n",
       "  background-color: var(--sklearn-color-fitted-level-2);\n",
       "}\n",
       "\n",
       "#sk-container-id-1 div.sk-label label.sk-toggleable__label,\n",
       "#sk-container-id-1 div.sk-label label {\n",
       "  /* The background is the default theme color */\n",
       "  color: var(--sklearn-color-text-on-default-background);\n",
       "}\n",
       "\n",
       "/* On hover, darken the color of the background */\n",
       "#sk-container-id-1 div.sk-label:hover label.sk-toggleable__label {\n",
       "  color: var(--sklearn-color-text);\n",
       "  background-color: var(--sklearn-color-unfitted-level-2);\n",
       "}\n",
       "\n",
       "/* Label box, darken color on hover, fitted */\n",
       "#sk-container-id-1 div.sk-label.fitted:hover label.sk-toggleable__label.fitted {\n",
       "  color: var(--sklearn-color-text);\n",
       "  background-color: var(--sklearn-color-fitted-level-2);\n",
       "}\n",
       "\n",
       "/* Estimator label */\n",
       "\n",
       "#sk-container-id-1 div.sk-label label {\n",
       "  font-family: monospace;\n",
       "  font-weight: bold;\n",
       "  display: inline-block;\n",
       "  line-height: 1.2em;\n",
       "}\n",
       "\n",
       "#sk-container-id-1 div.sk-label-container {\n",
       "  text-align: center;\n",
       "}\n",
       "\n",
       "/* Estimator-specific */\n",
       "#sk-container-id-1 div.sk-estimator {\n",
       "  font-family: monospace;\n",
       "  border: 1px dotted var(--sklearn-color-border-box);\n",
       "  border-radius: 0.25em;\n",
       "  box-sizing: border-box;\n",
       "  margin-bottom: 0.5em;\n",
       "  /* unfitted */\n",
       "  background-color: var(--sklearn-color-unfitted-level-0);\n",
       "}\n",
       "\n",
       "#sk-container-id-1 div.sk-estimator.fitted {\n",
       "  /* fitted */\n",
       "  background-color: var(--sklearn-color-fitted-level-0);\n",
       "}\n",
       "\n",
       "/* on hover */\n",
       "#sk-container-id-1 div.sk-estimator:hover {\n",
       "  /* unfitted */\n",
       "  background-color: var(--sklearn-color-unfitted-level-2);\n",
       "}\n",
       "\n",
       "#sk-container-id-1 div.sk-estimator.fitted:hover {\n",
       "  /* fitted */\n",
       "  background-color: var(--sklearn-color-fitted-level-2);\n",
       "}\n",
       "\n",
       "/* Specification for estimator info (e.g. \"i\" and \"?\") */\n",
       "\n",
       "/* Common style for \"i\" and \"?\" */\n",
       "\n",
       ".sk-estimator-doc-link,\n",
       "a:link.sk-estimator-doc-link,\n",
       "a:visited.sk-estimator-doc-link {\n",
       "  float: right;\n",
       "  font-size: smaller;\n",
       "  line-height: 1em;\n",
       "  font-family: monospace;\n",
       "  background-color: var(--sklearn-color-background);\n",
       "  border-radius: 1em;\n",
       "  height: 1em;\n",
       "  width: 1em;\n",
       "  text-decoration: none !important;\n",
       "  margin-left: 0.5em;\n",
       "  text-align: center;\n",
       "  /* unfitted */\n",
       "  border: var(--sklearn-color-unfitted-level-1) 1pt solid;\n",
       "  color: var(--sklearn-color-unfitted-level-1);\n",
       "}\n",
       "\n",
       ".sk-estimator-doc-link.fitted,\n",
       "a:link.sk-estimator-doc-link.fitted,\n",
       "a:visited.sk-estimator-doc-link.fitted {\n",
       "  /* fitted */\n",
       "  border: var(--sklearn-color-fitted-level-1) 1pt solid;\n",
       "  color: var(--sklearn-color-fitted-level-1);\n",
       "}\n",
       "\n",
       "/* On hover */\n",
       "div.sk-estimator:hover .sk-estimator-doc-link:hover,\n",
       ".sk-estimator-doc-link:hover,\n",
       "div.sk-label-container:hover .sk-estimator-doc-link:hover,\n",
       ".sk-estimator-doc-link:hover {\n",
       "  /* unfitted */\n",
       "  background-color: var(--sklearn-color-unfitted-level-3);\n",
       "  color: var(--sklearn-color-background);\n",
       "  text-decoration: none;\n",
       "}\n",
       "\n",
       "div.sk-estimator.fitted:hover .sk-estimator-doc-link.fitted:hover,\n",
       ".sk-estimator-doc-link.fitted:hover,\n",
       "div.sk-label-container:hover .sk-estimator-doc-link.fitted:hover,\n",
       ".sk-estimator-doc-link.fitted:hover {\n",
       "  /* fitted */\n",
       "  background-color: var(--sklearn-color-fitted-level-3);\n",
       "  color: var(--sklearn-color-background);\n",
       "  text-decoration: none;\n",
       "}\n",
       "\n",
       "/* Span, style for the box shown on hovering the info icon */\n",
       ".sk-estimator-doc-link span {\n",
       "  display: none;\n",
       "  z-index: 9999;\n",
       "  position: relative;\n",
       "  font-weight: normal;\n",
       "  right: .2ex;\n",
       "  padding: .5ex;\n",
       "  margin: .5ex;\n",
       "  width: min-content;\n",
       "  min-width: 20ex;\n",
       "  max-width: 50ex;\n",
       "  color: var(--sklearn-color-text);\n",
       "  box-shadow: 2pt 2pt 4pt #999;\n",
       "  /* unfitted */\n",
       "  background: var(--sklearn-color-unfitted-level-0);\n",
       "  border: .5pt solid var(--sklearn-color-unfitted-level-3);\n",
       "}\n",
       "\n",
       ".sk-estimator-doc-link.fitted span {\n",
       "  /* fitted */\n",
       "  background: var(--sklearn-color-fitted-level-0);\n",
       "  border: var(--sklearn-color-fitted-level-3);\n",
       "}\n",
       "\n",
       ".sk-estimator-doc-link:hover span {\n",
       "  display: block;\n",
       "}\n",
       "\n",
       "/* \"?\"-specific style due to the `<a>` HTML tag */\n",
       "\n",
       "#sk-container-id-1 a.estimator_doc_link {\n",
       "  float: right;\n",
       "  font-size: 1rem;\n",
       "  line-height: 1em;\n",
       "  font-family: monospace;\n",
       "  background-color: var(--sklearn-color-background);\n",
       "  border-radius: 1rem;\n",
       "  height: 1rem;\n",
       "  width: 1rem;\n",
       "  text-decoration: none;\n",
       "  /* unfitted */\n",
       "  color: var(--sklearn-color-unfitted-level-1);\n",
       "  border: var(--sklearn-color-unfitted-level-1) 1pt solid;\n",
       "}\n",
       "\n",
       "#sk-container-id-1 a.estimator_doc_link.fitted {\n",
       "  /* fitted */\n",
       "  border: var(--sklearn-color-fitted-level-1) 1pt solid;\n",
       "  color: var(--sklearn-color-fitted-level-1);\n",
       "}\n",
       "\n",
       "/* On hover */\n",
       "#sk-container-id-1 a.estimator_doc_link:hover {\n",
       "  /* unfitted */\n",
       "  background-color: var(--sklearn-color-unfitted-level-3);\n",
       "  color: var(--sklearn-color-background);\n",
       "  text-decoration: none;\n",
       "}\n",
       "\n",
       "#sk-container-id-1 a.estimator_doc_link.fitted:hover {\n",
       "  /* fitted */\n",
       "  background-color: var(--sklearn-color-fitted-level-3);\n",
       "}\n",
       "</style><div id=\"sk-container-id-1\" class=\"sk-top-container\"><div class=\"sk-text-repr-fallback\"><pre>LogisticRegression()</pre><b>In a Jupyter environment, please rerun this cell to show the HTML representation or trust the notebook. <br />On GitHub, the HTML representation is unable to render, please try loading this page with nbviewer.org.</b></div><div class=\"sk-container\" hidden><div class=\"sk-item\"><div class=\"sk-estimator fitted sk-toggleable\"><input class=\"sk-toggleable__control sk-hidden--visually\" id=\"sk-estimator-id-1\" type=\"checkbox\" checked><label for=\"sk-estimator-id-1\" class=\"sk-toggleable__label fitted sk-toggleable__label-arrow\"><div><div>LogisticRegression</div></div><div><a class=\"sk-estimator-doc-link fitted\" rel=\"noreferrer\" target=\"_blank\" href=\"https://scikit-learn.org/1.6/modules/generated/sklearn.linear_model.LogisticRegression.html\">?<span>Documentation for LogisticRegression</span></a><span class=\"sk-estimator-doc-link fitted\">i<span>Fitted</span></span></div></label><div class=\"sk-toggleable__content fitted\"><pre>LogisticRegression()</pre></div> </div></div></div></div>"
      ],
      "text/plain": [
       "LogisticRegression()"
      ]
     },
     "execution_count": 52,
     "metadata": {},
     "output_type": "execute_result"
    }
   ],
   "source": [
    "logreg = LogisticRegression()\n",
    "logreg.fit(X_train, y_train)"
   ]
  },
  {
   "cell_type": "code",
   "execution_count": 53,
   "id": "c76bf12b-39f8-440f-b973-c1e528571795",
   "metadata": {},
   "outputs": [
    {
     "data": {
      "text/plain": [
       "np.float64(0.7093888888888888)"
      ]
     },
     "execution_count": 53,
     "metadata": {},
     "output_type": "execute_result"
    }
   ],
   "source": [
    "predictedLogReg = logreg.predict(X_test)\n",
    "np.mean(predictedLogReg == y_test)"
   ]
  },
  {
   "cell_type": "code",
   "execution_count": 54,
   "id": "a4e6811b-d8f9-4b36-a835-baf38b649676",
   "metadata": {},
   "outputs": [
    {
     "name": "stdin",
     "output_type": "stream",
     "text": [
      "Enter review:  i hate thiss\n"
     ]
    },
    {
     "name": "stdout",
     "output_type": "stream",
     "text": [
      "i hate thiss\n",
      "After preprocessing:  hate thiss\n"
     ]
    },
    {
     "data": {
      "text/plain": [
       "array(['Negative'], dtype=object)"
      ]
     },
     "execution_count": 54,
     "metadata": {},
     "output_type": "execute_result"
    }
   ],
   "source": [
    "inp_test = input(\"Enter review: \")\n",
    "print(inp_test)\n",
    "\n",
    "inp_test = preprocess_text(inp_test)\n",
    "print(\"After preprocessing: \", inp_test)\n",
    "\n",
    "inp_test = tfidf_vectorizer.transform([inp_test])\n",
    "logreg.predict(inp_test)"
   ]
  },
  {
   "cell_type": "markdown",
   "id": "c857a234-9816-404b-9c95-3d0027527dac",
   "metadata": {},
   "source": [
    "i hate thiss\n",
    "After preprocessing:  hate thiss"
   ]
  },
  {
   "cell_type": "code",
   "execution_count": 55,
   "id": "4a9910ef-6510-496a-8cf2-8ff1f59f0e90",
   "metadata": {},
   "outputs": [
    {
     "name": "stdout",
     "output_type": "stream",
     "text": [
      "['Negative']\n"
     ]
    }
   ],
   "source": [
    "import numpy as np\n",
    "\n",
    "result = np.array(['Negative'], dtype=object)\n",
    "print(result)"
   ]
  },
  {
   "cell_type": "markdown",
   "id": "f7a71eb8-b551-43ad-a94c-bd435548c5bd",
   "metadata": {},
   "source": [
    "Model Analysis:"
   ]
  },
  {
   "cell_type": "code",
   "execution_count": 56,
   "id": "457b8808-f8f6-4e6d-a005-90798263c687",
   "metadata": {},
   "outputs": [
    {
     "name": "stdout",
     "output_type": "stream",
     "text": [
      "Classification Report\n",
      "              precision    recall  f1-score   support\n",
      "\n",
      "    Negative       0.73      0.82      0.77      7058\n",
      "     Neutral       0.48      0.27      0.35      3616\n",
      "    Positive       0.75      0.82      0.78      7326\n",
      "\n",
      "    accuracy                           0.71     18000\n",
      "   macro avg       0.65      0.64      0.63     18000\n",
      "weighted avg       0.69      0.71      0.69     18000\n",
      "\n",
      "Accuracy: 0.7093888888888888\n"
     ]
    }
   ],
   "source": [
    "# classification_report and accuracy_score using sklearn.metrics library\n",
    "print(\"Classification Report\")\n",
    "print(f\"{classification_report(y_test, predictedLogReg)}\")\n",
    "print(f\"Accuracy: {accuracy_score(y_test, predictedLogReg)}\")"
   ]
  },
  {
   "cell_type": "code",
   "execution_count": 57,
   "id": "4931b531-7f96-433e-84c2-a3a7810f5647",
   "metadata": {},
   "outputs": [
    {
     "data": {
      "image/png": "[encoded data removed]",
      "text/plain": [
       "<Figure size 500x500 with 2 Axes>"
      ]
     },
     "metadata": {},
     "output_type": "display_data"
    }
   ],
   "source": [
    "plt.figure(figsize=(5,5))\n",
    "sns.heatmap(confusion_matrix(y_test,predictedLogReg), annot=True, fmt=\"d\", cmap=colors)\n",
    "plt.show()"
   ]
  },
  {
   "cell_type": "code",
   "execution_count": 58,
   "id": "8cb2b6c5-8288-4c4e-bc80-243e4670e1f1",
   "metadata": {},
   "outputs": [
    {
     "name": "stdout",
     "output_type": "stream",
     "text": [
      "Confusion matrix\n",
      "\n",
      " [[5756  563  739]\n",
      " [1357  989 1270]\n",
      " [ 785  517 6024]]\n",
      "\n",
      "True Positives(TP) =  5756\n",
      "\n",
      "True Negatives(TN) =  989\n",
      "\n",
      "False Positives(FP) =  563\n",
      "\n",
      "False Negatives(FN) =  1357\n"
     ]
    }
   ],
   "source": [
    "cm = confusion_matrix(y_test,predictedLogReg)\n",
    "\n",
    "print('Confusion matrix\\n\\n', cm)\n",
    "print('\\nTrue Positives(TP) = ', cm[0,0])\n",
    "print('\\nTrue Negatives(TN) = ', cm[1,1])\n",
    "print('\\nFalse Positives(FP) = ', cm[0,1])\n",
    "print('\\nFalse Negatives(FN) = ', cm[1,0])"
   ]
  },
  {
   "cell_type": "code",
   "execution_count": 59,
   "id": "24d08b2e-91b8-4cbc-8ec7-ab02320cc253",
   "metadata": {},
   "outputs": [],
   "source": [
    "TP = cm[0,0]\n",
    "TN = cm[1,1]\n",
    "FP = cm[0,1]\n",
    "FN = cm[1,0]"
   ]
  },
  {
   "cell_type": "code",
   "execution_count": 60,
   "id": "ba5ccb1f-3527-4b3f-82a9-74ad650a7f2b",
   "metadata": {},
   "outputs": [
    {
     "name": "stdout",
     "output_type": "stream",
     "text": [
      "Classification accuracy of LG: 0.7784\n"
     ]
    }
   ],
   "source": [
    "classification_accuracy = (TP + TN) / float(TP + TN + FP + FN)\n",
    "print('Classification accuracy of LG: {0:0.4f}'.format(classification_accuracy))"
   ]
  },
  {
   "cell_type": "markdown",
   "id": "4b95b187-ed99-467e-8c62-0ddfae51fa9c",
   "metadata": {},
   "source": [
    "Classification accuracy of LG: 0.7731"
   ]
  },
  {
   "cell_type": "code",
   "execution_count": 61,
   "id": "7c443306-8c0e-40da-9e3b-ee5c3d755235",
   "metadata": {},
   "outputs": [
    {
     "name": "stdout",
     "output_type": "stream",
     "text": [
      "Classification error of LG: 0.2216\n"
     ]
    }
   ],
   "source": [
    "classification_error = (FP + FN) / float(TP + TN + FP + FN)\n",
    "print('Classification error of LG: {0:0.4f}'.format(classification_error))"
   ]
  },
  {
   "cell_type": "markdown",
   "id": "e6a73215-bfa9-4e47-91bb-efbe53c106ba",
   "metadata": {},
   "source": [
    "Classification error of LG: 0.2269"
   ]
  },
  {
   "cell_type": "code",
   "execution_count": 62,
   "id": "998b81e0-02e0-438b-8d31-1d37524f2de4",
   "metadata": {},
   "outputs": [
    {
     "name": "stdout",
     "output_type": "stream",
     "text": [
      "Precision of LG: 0.9109\n"
     ]
    }
   ],
   "source": [
    "precision = TP / float(TP + FP)\n",
    "print('Precision of LG: {0:0.4f}'.format(precision))\n"
   ]
  },
  {
   "cell_type": "markdown",
   "id": "3d2def4c-7b16-47c1-b298-258c24a5edb5",
   "metadata": {},
   "source": [
    "Precision of LG: 0.9103"
   ]
  },
  {
   "cell_type": "code",
   "execution_count": 63,
   "id": "a71cf283-5b3b-45f5-86ec-81d4329adc49",
   "metadata": {},
   "outputs": [
    {
     "name": "stdout",
     "output_type": "stream",
     "text": [
      "Recall or Sensitivity of LG: 0.8092\n"
     ]
    }
   ],
   "source": [
    "recall = TP / float(TP + FN)\n",
    "print('Recall or Sensitivity of LG: {0:0.4f}'.format(recall))\n"
   ]
  },
  {
   "cell_type": "markdown",
   "id": "e164896c-b149-4754-a0b7-1f0d63be7eef",
   "metadata": {},
   "source": [
    "Recall or Sensitivity of LG: 0.8046"
   ]
  },
  {
   "cell_type": "code",
   "execution_count": 64,
   "id": "8fd78735-e17b-4118-bbd2-394dbdde4d4b",
   "metadata": {},
   "outputs": [
    {
     "data": {
      "text/plain": [
       "array([[0.12067567, 0.1307528 , 0.74857153],\n",
       "       [0.04771315, 0.12759609, 0.82469076],\n",
       "       [0.27093796, 0.46650633, 0.26255571],\n",
       "       [0.68596137, 0.14087041, 0.17316822],\n",
       "       [0.01891417, 0.05409237, 0.92699346],\n",
       "       [0.8398099 , 0.1455879 , 0.01460221],\n",
       "       [0.98738989, 0.00949171, 0.0031184 ],\n",
       "       [0.04124338, 0.06530343, 0.89345319],\n",
       "       [0.62456595, 0.1535731 , 0.22186095],\n",
       "       [0.47755415, 0.46435917, 0.05808668]])"
      ]
     },
     "execution_count": 64,
     "metadata": {},
     "output_type": "execute_result"
    }
   ],
   "source": [
    "y_pred_prob = logreg.predict_proba(X_test)[0:10]\n",
    "y_pred_prob"
   ]
  },
  {
   "cell_type": "markdown",
   "id": "5cfa5c0d-2acb-4988-969c-fb8fc6cb5ace",
   "metadata": {},
   "source": [
    "In each row, the numbers sum to 1.\n",
    "There are 3 columns which correspond to 3 classes - positive, negative, neutral\n",
    "predict_proba process:\n",
    "    Predicts the probabilities --> Choose the class with the highest probability"
   ]
  },
  {
   "cell_type": "code",
   "execution_count": 65,
   "id": "2e4d9876-21dd-4864-b9cb-e32909656d14",
   "metadata": {},
   "outputs": [
    {
     "data": {
      "text/html": [
       "<div>\n",
       "<style scoped>\n",
       "    .dataframe tbody tr th:only-of-type {\n",
       "        vertical-align: middle;\n",
       "    }\n",
       "\n",
       "    .dataframe tbody tr th {\n",
       "        vertical-align: top;\n",
       "    }\n",
       "\n",
       "    .dataframe thead th {\n",
       "        text-align: right;\n",
       "    }\n",
       "</style>\n",
       "<table border=\"1\" class=\"dataframe\">\n",
       "  <thead>\n",
       "    <tr style=\"text-align: right;\">\n",
       "      <th></th>\n",
       "      <th>Prob of - Negative (0)</th>\n",
       "      <th>Prob of - Neutral (1)</th>\n",
       "      <th>Prob of - Positive (2)</th>\n",
       "    </tr>\n",
       "  </thead>\n",
       "  <tbody>\n",
       "    <tr>\n",
       "      <th>0</th>\n",
       "      <td>0.120676</td>\n",
       "      <td>0.130753</td>\n",
       "      <td>0.748572</td>\n",
       "    </tr>\n",
       "    <tr>\n",
       "      <th>1</th>\n",
       "      <td>0.047713</td>\n",
       "      <td>0.127596</td>\n",
       "      <td>0.824691</td>\n",
       "    </tr>\n",
       "    <tr>\n",
       "      <th>2</th>\n",
       "      <td>0.270938</td>\n",
       "      <td>0.466506</td>\n",
       "      <td>0.262556</td>\n",
       "    </tr>\n",
       "    <tr>\n",
       "      <th>3</th>\n",
       "      <td>0.685961</td>\n",
       "      <td>0.140870</td>\n",
       "      <td>0.173168</td>\n",
       "    </tr>\n",
       "    <tr>\n",
       "      <th>4</th>\n",
       "      <td>0.018914</td>\n",
       "      <td>0.054092</td>\n",
       "      <td>0.926993</td>\n",
       "    </tr>\n",
       "    <tr>\n",
       "      <th>5</th>\n",
       "      <td>0.839810</td>\n",
       "      <td>0.145588</td>\n",
       "      <td>0.014602</td>\n",
       "    </tr>\n",
       "    <tr>\n",
       "      <th>6</th>\n",
       "      <td>0.987390</td>\n",
       "      <td>0.009492</td>\n",
       "      <td>0.003118</td>\n",
       "    </tr>\n",
       "    <tr>\n",
       "      <th>7</th>\n",
       "      <td>0.041243</td>\n",
       "      <td>0.065303</td>\n",
       "      <td>0.893453</td>\n",
       "    </tr>\n",
       "    <tr>\n",
       "      <th>8</th>\n",
       "      <td>0.624566</td>\n",
       "      <td>0.153573</td>\n",
       "      <td>0.221861</td>\n",
       "    </tr>\n",
       "    <tr>\n",
       "      <th>9</th>\n",
       "      <td>0.477554</td>\n",
       "      <td>0.464359</td>\n",
       "      <td>0.058087</td>\n",
       "    </tr>\n",
       "  </tbody>\n",
       "</table>\n",
       "</div>"
      ],
      "text/plain": [
       "   Prob of - Negative (0)  Prob of - Neutral (1)  Prob of - Positive (2)\n",
       "0                0.120676               0.130753                0.748572\n",
       "1                0.047713               0.127596                0.824691\n",
       "2                0.270938               0.466506                0.262556\n",
       "3                0.685961               0.140870                0.173168\n",
       "4                0.018914               0.054092                0.926993\n",
       "5                0.839810               0.145588                0.014602\n",
       "6                0.987390               0.009492                0.003118\n",
       "7                0.041243               0.065303                0.893453\n",
       "8                0.624566               0.153573                0.221861\n",
       "9                0.477554               0.464359                0.058087"
      ]
     },
     "execution_count": 65,
     "metadata": {},
     "output_type": "execute_result"
    }
   ],
   "source": [
    "y_pred_prob_df = pd.DataFrame(data=y_pred_prob, columns=['Prob of - Negative (0)', 'Prob of - Neutral (1)', 'Prob of - Positive (2)'])\n",
    "y_pred_prob_df"
   ]
  },
  {
   "cell_type": "markdown",
   "id": "8a9bca67-c633-4718-ada0-372a6bd2eca1",
   "metadata": {},
   "source": [
    "Training the model using SVM:"
   ]
  },
  {
   "cell_type": "code",
   "execution_count": 66,
   "id": "04b159ba-4b71-4ed3-ab7c-764016006c4e",
   "metadata": {},
   "outputs": [],
   "source": [
    "X_train, X_test, y_train, y_test = train_test_split(X_tfidf, y, random_state = 42, test_size = 0.20)"
   ]
  },
  {
   "cell_type": "code",
   "execution_count": 67,
   "id": "9122ec3c-c741-4d0d-9d18-25c5c3359f7a",
   "metadata": {},
   "outputs": [
    {
     "name": "stdout",
     "output_type": "stream",
     "text": [
      "Training:\n",
      " X = (72000, 5000)\n",
      " y = (72000,)\n",
      "Testing:\n",
      " X = (18000, 5000)\n",
      " y = (18000,)\n"
     ]
    }
   ],
   "source": [
    "print(f\"Training:\\n X = {X_train.shape}\\n y = {y_train.shape}\")\n",
    "print(f\"Testing:\\n X = {X_test.shape}\\n y = {y_test.shape}\")"
   ]
  },
  {
   "cell_type": "markdown",
   "id": "a4d46588-6f05-4c05-8727-0fabf5f658a7",
   "metadata": {},
   "source": [
    "Training:\n",
    " X = (72000, 5000)\n",
    " y = (72000,)\n",
    "Testing:\n",
    " X = (18000, 5000)\n",
    " y = (18000,)"
   ]
  },
  {
   "cell_type": "code",
   "execution_count": 68,
   "id": "3d2d8113-ea92-45dc-914f-211cc7a6b1cc",
   "metadata": {},
   "outputs": [],
   "source": [
    "from sklearn.svm import SVC"
   ]
  },
  {
   "cell_type": "code",
   "execution_count": null,
   "id": "7ba562e1-0cb1-485a-ab32-a430d1edf17f",
   "metadata": {},
   "outputs": [],
   "source": [
    "svm = SVC(kernel=\"linear\")\n",
    "svm.fit(X_train, y_train)"
   ]
  },
  {
   "cell_type": "code",
   "execution_count": null,
   "id": "0c53c171-cdb9-478c-9136-80f2b40fb9a3",
   "metadata": {},
   "outputs": [],
   "source": [
    "y_pred = svm.predict(X_test)"
   ]
  },
  {
   "cell_type": "code",
   "execution_count": null,
   "id": "0803d7e6-f903-43d2-a11d-c23db9e781a9",
   "metadata": {},
   "outputs": [],
   "source": [
    "accuracy_score(y_test, y_pred)*100"
   ]
  },
  {
   "cell_type": "code",
   "execution_count": null,
   "id": "240c3eca-85a0-4af4-918f-820dcb127f2b",
   "metadata": {},
   "outputs": [],
   "source": [
    "inp_test = input(\"Enter review: \")\n",
    "print(inp_test)\n",
    "\n",
    "inp_test = preprocess_text(inp_test)\n",
    "print(\"After preprocessing: \", inp_test)\n",
    "\n",
    "inp_test = tfidf_vectorizer.transform([inp_test])\n",
    "svm.predict(inp_test)"
   ]
  },
  {
   "cell_type": "markdown",
   "id": "dcad0166-5a36-4635-894a-8f458625f1a4",
   "metadata": {},
   "source": [
    "this is a good product\n",
    "After preprocessing:  good product"
   ]
  },
  {
   "cell_type": "markdown",
   "id": "87f1e6ec-d7dc-474f-b2a1-e96499ab73bf",
   "metadata": {},
   "source": [
    "Model Analysis:"
   ]
  },
  {
   "cell_type": "code",
   "execution_count": null,
   "id": "9a42e6b9-bd0d-438c-be14-c9bd045ca73a",
   "metadata": {},
   "outputs": [],
   "source": [
    "# classification_report and accuracy_score using sklearn.metrics library\n",
    "print(\"Classification Report\")\n",
    "print(f\"{classification_report(y_test, y_pred)}\")\n",
    "print(f\"Accuracy: {accuracy_score(y_test, y_pred)}\")"
   ]
  },
  {
   "cell_type": "code",
   "execution_count": null,
   "id": "c6907dc1-77d8-4292-a87e-3a503733c5af",
   "metadata": {},
   "outputs": [],
   "source": [
    "plt.figure(figsize=(5,5))\n",
    "sns.heatmap(confusion_matrix(y_test, y_pred), annot=True, fmt=\"d\", cmap=colors)\n",
    "plt.show()"
   ]
  },
  {
   "cell_type": "code",
   "execution_count": null,
   "id": "03319b26-12bb-4a92-8f27-49d6fec12273",
   "metadata": {},
   "outputs": [],
   "source": [
    "cm = confusion_matrix(y_test, y_pred)\n",
    "\n",
    "print('Confusion matrix\\n\\n', cm)\n",
    "print('\\nTrue Positives(TP) = ', cm[0,0])\n",
    "print('\\nTrue Negatives(TN) = ', cm[1,1])\n",
    "print('\\nFalse Positives(FP) = ', cm[0,1])\n",
    "print('\\nFalse Negatives(FN) = ', cm[1,0])"
   ]
  },
  {
   "cell_type": "code",
   "execution_count": null,
   "id": "7d587675-e441-4906-851f-83f120d13c13",
   "metadata": {},
   "outputs": [],
   "source": [
    "TP = cm[0,0]\n",
    "TN = cm[1,1]\n",
    "FP = cm[0,1]\n",
    "FN = cm[1,0]"
   ]
  },
  {
   "cell_type": "code",
   "execution_count": null,
   "id": "c5a5e22f-7168-409e-b62a-6c65f106e1a1",
   "metadata": {},
   "outputs": [],
   "source": [
    "classification_accuracy = (TP + TN) / float(TP + TN + FP + FN)\n",
    "print('Classification accuracy of SVM: {0:0.4f}'.format(classification_accuracy))"
   ]
  },
  {
   "cell_type": "code",
   "execution_count": null,
   "id": "6e19ae09-a53f-4568-95ef-4cf14e7df2e4",
   "metadata": {},
   "outputs": [],
   "source": [
    "classification_error = (FP + FN) / float(TP + TN + FP + FN)\n",
    "print('Classification error of SVM: {0:0.4f}'.format(classification_error))"
   ]
  },
  {
   "cell_type": "code",
   "execution_count": null,
   "id": "1d27f039-e47f-4707-b36f-caaf407eb516",
   "metadata": {},
   "outputs": [],
   "source": [
    "precision = TP / float(TP + FP)\n",
    "print('Precision of SVM: {0:0.4f}'.format(precision))"
   ]
  },
  {
   "cell_type": "code",
   "execution_count": null,
   "id": "f7fc963c-3493-48d9-ac21-e0986deea781",
   "metadata": {},
   "outputs": [],
   "source": [
    "recall = TP / float(TP + FN)\n",
    "print('Recall or Sensitivity of SVM: {0:0.4f}'.format(recall))"
   ]
  },
  {
   "cell_type": "markdown",
   "id": "62d0e22c-14a8-4bcc-9fc4-02329830736c",
   "metadata": {},
   "source": [
    "Exporting the models as a pickled file:"
   ]
  },
  {
   "cell_type": "code",
   "execution_count": null,
   "id": "71757477-61e3-475d-913a-42f1ed333350",
   "metadata": {},
   "outputs": [],
   "source": [
    "pi = {'vectorizer': tfidf_vectorizer, 'logreg': logreg, 'svm': svm}\n",
    "pickle.dump(pi, open('models' + '.p', 'wb'))"
   ]
  },
  {
   "cell_type": "code",
   "execution_count": 1,
   "id": "dd913fc9-0464-425c-9032-96b8e5989978",
   "metadata": {},
   "outputs": [
    {
     "name": "stdout",
     "output_type": "stream",
     "text": [
      "Testing file save\n"
     ]
    }
   ],
   "source": [
    "print(\"Testing file save\")"
   ]
  },
  {
   "cell_type": "code",
   "execution_count": null,
   "id": "75e1ef32-4b00-4a61-82fe-1c32e74b52f3",
   "metadata": {},
   "outputs": [],
   "source": []
  }
 ],
 "metadata": {
  "kernelspec": {
   "display_name": "Python 3 (ipykernel)",
   "language": "python",
   "name": "python3"
  },
  "language_info": {
   "codemirror_mode": {
    "name": "ipython",
    "version": 3
   },
   "file_extension": ".py",
   "mimetype": "text/x-python",
   "name": "python",
   "nbconvert_exporter": "python",
   "pygments_lexer": "ipython3",
   "version": "3.13.5"
  }
 },
 "nbformat": 4,
 "nbformat_minor": 5
}
